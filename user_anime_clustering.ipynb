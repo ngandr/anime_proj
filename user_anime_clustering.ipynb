{
  "nbformat": 4,
  "nbformat_minor": 0,
  "metadata": {
    "colab": {
      "name": "user_anime_clustering.ipynb",
      "provenance": [],
      "collapsed_sections": [],
      "toc_visible": true
    },
    "kernelspec": {
      "name": "python3",
      "display_name": "Python 3"
    },
    "language_info": {
      "name": "python"
    }
  },
  "cells": [
    {
      "cell_type": "markdown",
      "source": [
        "# Clustering Anime via User Scores"
      ],
      "metadata": {
        "id": "XWmFpiIyZ9eq"
      }
    },
    {
      "cell_type": "markdown",
      "source": [
        "Using the same type of data from the collaborative filtering notebook, we again perform cluster analysis to find any hidden patterns amongst the anime based on the users' scores and whether or not they have viewed certain shows."
      ],
      "metadata": {
        "id": "kIoOjsjZc5r4"
      }
    },
    {
      "cell_type": "code",
      "source": [
        "import requests\n",
        "import json\n",
        "import pandas as pd\n",
        "import numpy as np\n",
        "import matplotlib.pyplot as plt\n",
        "import seaborn as sns"
      ],
      "metadata": {
        "id": "5XJjfgm6lQFP"
      },
      "execution_count": 1,
      "outputs": []
    },
    {
      "cell_type": "markdown",
      "source": [
        "## Querying User Data"
      ],
      "metadata": {
        "id": "qWEGS64xTKhq"
      }
    },
    {
      "cell_type": "markdown",
      "source": [
        "### Querying a Single User"
      ],
      "metadata": {
        "id": "MMIU57fcUmzw"
      }
    },
    {
      "cell_type": "markdown",
      "source": [
        "The user \"Kosuna\" has a very high number of followers, which can give us plenty of data to work with."
      ],
      "metadata": {
        "id": "IYMNPaJmq35E"
      }
    },
    {
      "cell_type": "code",
      "source": [
        "user_query = '''\n",
        "query ($username: String) {\n",
        "  User(name: $username, sort: [ID]) {\n",
        "    id\n",
        "    statistics {\n",
        "      anime {\n",
        "        count\n",
        "        meanScore\n",
        "        standardDeviation\n",
        "        episodesWatched\n",
        "        scores (sort: [ID]) {\n",
        "          score\n",
        "          mediaIds\n",
        "        }\n",
        "      }\n",
        "    }\n",
        "    mediaListOptions {\n",
        "      scoreFormat\n",
        "    }\n",
        "  }\n",
        "}\n",
        "'''\n",
        "\n",
        "variables = {\n",
        "    'username': \"kosuna\",\n",
        "    # 'page': 1,\n",
        "    # 'perPage': 50\n",
        "}\n",
        "url = 'https://graphql.anilist.co'\n",
        "\n",
        "response = requests.post(url, json={'query': user_query, 'variables': variables})"
      ],
      "metadata": {
        "id": "61zM3xccTLui"
      },
      "execution_count": 122,
      "outputs": []
    },
    {
      "cell_type": "code",
      "source": [
        "results = json.loads(response.text)\n",
        "user_df = pd.json_normalize(results)\n",
        "user_df"
      ],
      "metadata": {
        "colab": {
          "base_uri": "https://localhost:8080/",
          "height": 162
        },
        "id": "5SZxfWfwUUqo",
        "outputId": "5bb24939-8dab-47c9-bcc1-cf8e036b9a4c"
      },
      "execution_count": 123,
      "outputs": [
        {
          "output_type": "execute_result",
          "data": {
            "text/plain": [
              "   data.User.id  data.User.statistics.anime.count  \\\n",
              "0        126268                               422   \n",
              "\n",
              "   data.User.statistics.anime.meanScore  \\\n",
              "0                                  79.6   \n",
              "\n",
              "   data.User.statistics.anime.standardDeviation  \\\n",
              "0                                          10.2   \n",
              "\n",
              "   data.User.statistics.anime.episodesWatched  \\\n",
              "0                                        5082   \n",
              "\n",
              "                   data.User.statistics.anime.scores  \\\n",
              "0  [{'score': 80, 'mediaIds': [113538, 16762, 378...   \n",
              "\n",
              "  data.User.mediaListOptions.scoreFormat  \n",
              "0                       POINT_10_DECIMAL  "
            ],
            "text/html": [
              "\n",
              "  <div id=\"df-d2979ce5-c843-4c37-8539-eae79afad00c\">\n",
              "    <div class=\"colab-df-container\">\n",
              "      <div>\n",
              "<style scoped>\n",
              "    .dataframe tbody tr th:only-of-type {\n",
              "        vertical-align: middle;\n",
              "    }\n",
              "\n",
              "    .dataframe tbody tr th {\n",
              "        vertical-align: top;\n",
              "    }\n",
              "\n",
              "    .dataframe thead th {\n",
              "        text-align: right;\n",
              "    }\n",
              "</style>\n",
              "<table border=\"1\" class=\"dataframe\">\n",
              "  <thead>\n",
              "    <tr style=\"text-align: right;\">\n",
              "      <th></th>\n",
              "      <th>data.User.id</th>\n",
              "      <th>data.User.statistics.anime.count</th>\n",
              "      <th>data.User.statistics.anime.meanScore</th>\n",
              "      <th>data.User.statistics.anime.standardDeviation</th>\n",
              "      <th>data.User.statistics.anime.episodesWatched</th>\n",
              "      <th>data.User.statistics.anime.scores</th>\n",
              "      <th>data.User.mediaListOptions.scoreFormat</th>\n",
              "    </tr>\n",
              "  </thead>\n",
              "  <tbody>\n",
              "    <tr>\n",
              "      <th>0</th>\n",
              "      <td>126268</td>\n",
              "      <td>422</td>\n",
              "      <td>79.6</td>\n",
              "      <td>10.2</td>\n",
              "      <td>5082</td>\n",
              "      <td>[{'score': 80, 'mediaIds': [113538, 16762, 378...</td>\n",
              "      <td>POINT_10_DECIMAL</td>\n",
              "    </tr>\n",
              "  </tbody>\n",
              "</table>\n",
              "</div>\n",
              "      <button class=\"colab-df-convert\" onclick=\"convertToInteractive('df-d2979ce5-c843-4c37-8539-eae79afad00c')\"\n",
              "              title=\"Convert this dataframe to an interactive table.\"\n",
              "              style=\"display:none;\">\n",
              "        \n",
              "  <svg xmlns=\"http://www.w3.org/2000/svg\" height=\"24px\"viewBox=\"0 0 24 24\"\n",
              "       width=\"24px\">\n",
              "    <path d=\"M0 0h24v24H0V0z\" fill=\"none\"/>\n",
              "    <path d=\"M18.56 5.44l.94 2.06.94-2.06 2.06-.94-2.06-.94-.94-2.06-.94 2.06-2.06.94zm-11 1L8.5 8.5l.94-2.06 2.06-.94-2.06-.94L8.5 2.5l-.94 2.06-2.06.94zm10 10l.94 2.06.94-2.06 2.06-.94-2.06-.94-.94-2.06-.94 2.06-2.06.94z\"/><path d=\"M17.41 7.96l-1.37-1.37c-.4-.4-.92-.59-1.43-.59-.52 0-1.04.2-1.43.59L10.3 9.45l-7.72 7.72c-.78.78-.78 2.05 0 2.83L4 21.41c.39.39.9.59 1.41.59.51 0 1.02-.2 1.41-.59l7.78-7.78 2.81-2.81c.8-.78.8-2.07 0-2.86zM5.41 20L4 18.59l7.72-7.72 1.47 1.35L5.41 20z\"/>\n",
              "  </svg>\n",
              "      </button>\n",
              "      \n",
              "  <style>\n",
              "    .colab-df-container {\n",
              "      display:flex;\n",
              "      flex-wrap:wrap;\n",
              "      gap: 12px;\n",
              "    }\n",
              "\n",
              "    .colab-df-convert {\n",
              "      background-color: #E8F0FE;\n",
              "      border: none;\n",
              "      border-radius: 50%;\n",
              "      cursor: pointer;\n",
              "      display: none;\n",
              "      fill: #1967D2;\n",
              "      height: 32px;\n",
              "      padding: 0 0 0 0;\n",
              "      width: 32px;\n",
              "    }\n",
              "\n",
              "    .colab-df-convert:hover {\n",
              "      background-color: #E2EBFA;\n",
              "      box-shadow: 0px 1px 2px rgba(60, 64, 67, 0.3), 0px 1px 3px 1px rgba(60, 64, 67, 0.15);\n",
              "      fill: #174EA6;\n",
              "    }\n",
              "\n",
              "    [theme=dark] .colab-df-convert {\n",
              "      background-color: #3B4455;\n",
              "      fill: #D2E3FC;\n",
              "    }\n",
              "\n",
              "    [theme=dark] .colab-df-convert:hover {\n",
              "      background-color: #434B5C;\n",
              "      box-shadow: 0px 1px 3px 1px rgba(0, 0, 0, 0.15);\n",
              "      filter: drop-shadow(0px 1px 2px rgba(0, 0, 0, 0.3));\n",
              "      fill: #FFFFFF;\n",
              "    }\n",
              "  </style>\n",
              "\n",
              "      <script>\n",
              "        const buttonEl =\n",
              "          document.querySelector('#df-d2979ce5-c843-4c37-8539-eae79afad00c button.colab-df-convert');\n",
              "        buttonEl.style.display =\n",
              "          google.colab.kernel.accessAllowed ? 'block' : 'none';\n",
              "\n",
              "        async function convertToInteractive(key) {\n",
              "          const element = document.querySelector('#df-d2979ce5-c843-4c37-8539-eae79afad00c');\n",
              "          const dataTable =\n",
              "            await google.colab.kernel.invokeFunction('convertToInteractive',\n",
              "                                                     [key], {});\n",
              "          if (!dataTable) return;\n",
              "\n",
              "          const docLinkHtml = 'Like what you see? Visit the ' +\n",
              "            '<a target=\"_blank\" href=https://colab.research.google.com/notebooks/data_table.ipynb>data table notebook</a>'\n",
              "            + ' to learn more about interactive tables.';\n",
              "          element.innerHTML = '';\n",
              "          dataTable['output_type'] = 'display_data';\n",
              "          await google.colab.output.renderOutput(dataTable, element);\n",
              "          const docLink = document.createElement('div');\n",
              "          docLink.innerHTML = docLinkHtml;\n",
              "          element.appendChild(docLink);\n",
              "        }\n",
              "      </script>\n",
              "    </div>\n",
              "  </div>\n",
              "  "
            ]
          },
          "metadata": {},
          "execution_count": 123
        }
      ]
    },
    {
      "cell_type": "code",
      "source": [
        "new_user_scores = pd.DataFrame(columns=['userId','animeId','score'])\n",
        "scores = pd.json_normalize(results['data']['User']['statistics']['anime']['scores'])\n",
        "\n",
        "for i in range(len(scores)):\n",
        "  temp = pd.DataFrame({\"userId\": user_df['data.User.id'][0], \"animeId\": scores.mediaIds[i],\"score\":scores.score[i]})\n",
        "  new_user_scores = pd.concat([temp, new_user_scores],ignore_index=True)\n",
        "\n",
        "new_user_scores"
      ],
      "metadata": {
        "colab": {
          "base_uri": "https://localhost:8080/",
          "height": 424
        },
        "id": "rb9vwEK6Dwa8",
        "outputId": "335e53be-336f-4a47-a47b-723242a66883"
      },
      "execution_count": 124,
      "outputs": [
        {
          "output_type": "execute_result",
          "data": {
            "text/plain": [
              "     userId animeId score\n",
              "0    126268     320    55\n",
              "1    126268   99531    30\n",
              "2    126268   21709    40\n",
              "3    126268   97833    25\n",
              "4    126268   21519   100\n",
              "..      ...     ...   ...\n",
              "159  126268  101165    80\n",
              "160  126268    8074    80\n",
              "161  126268   11771    80\n",
              "162  126268     226    80\n",
              "163  126268   21049    80\n",
              "\n",
              "[164 rows x 3 columns]"
            ],
            "text/html": [
              "\n",
              "  <div id=\"df-e0dda0af-4120-47d3-8dfe-60a128cc1316\">\n",
              "    <div class=\"colab-df-container\">\n",
              "      <div>\n",
              "<style scoped>\n",
              "    .dataframe tbody tr th:only-of-type {\n",
              "        vertical-align: middle;\n",
              "    }\n",
              "\n",
              "    .dataframe tbody tr th {\n",
              "        vertical-align: top;\n",
              "    }\n",
              "\n",
              "    .dataframe thead th {\n",
              "        text-align: right;\n",
              "    }\n",
              "</style>\n",
              "<table border=\"1\" class=\"dataframe\">\n",
              "  <thead>\n",
              "    <tr style=\"text-align: right;\">\n",
              "      <th></th>\n",
              "      <th>userId</th>\n",
              "      <th>animeId</th>\n",
              "      <th>score</th>\n",
              "    </tr>\n",
              "  </thead>\n",
              "  <tbody>\n",
              "    <tr>\n",
              "      <th>0</th>\n",
              "      <td>126268</td>\n",
              "      <td>320</td>\n",
              "      <td>55</td>\n",
              "    </tr>\n",
              "    <tr>\n",
              "      <th>1</th>\n",
              "      <td>126268</td>\n",
              "      <td>99531</td>\n",
              "      <td>30</td>\n",
              "    </tr>\n",
              "    <tr>\n",
              "      <th>2</th>\n",
              "      <td>126268</td>\n",
              "      <td>21709</td>\n",
              "      <td>40</td>\n",
              "    </tr>\n",
              "    <tr>\n",
              "      <th>3</th>\n",
              "      <td>126268</td>\n",
              "      <td>97833</td>\n",
              "      <td>25</td>\n",
              "    </tr>\n",
              "    <tr>\n",
              "      <th>4</th>\n",
              "      <td>126268</td>\n",
              "      <td>21519</td>\n",
              "      <td>100</td>\n",
              "    </tr>\n",
              "    <tr>\n",
              "      <th>...</th>\n",
              "      <td>...</td>\n",
              "      <td>...</td>\n",
              "      <td>...</td>\n",
              "    </tr>\n",
              "    <tr>\n",
              "      <th>159</th>\n",
              "      <td>126268</td>\n",
              "      <td>101165</td>\n",
              "      <td>80</td>\n",
              "    </tr>\n",
              "    <tr>\n",
              "      <th>160</th>\n",
              "      <td>126268</td>\n",
              "      <td>8074</td>\n",
              "      <td>80</td>\n",
              "    </tr>\n",
              "    <tr>\n",
              "      <th>161</th>\n",
              "      <td>126268</td>\n",
              "      <td>11771</td>\n",
              "      <td>80</td>\n",
              "    </tr>\n",
              "    <tr>\n",
              "      <th>162</th>\n",
              "      <td>126268</td>\n",
              "      <td>226</td>\n",
              "      <td>80</td>\n",
              "    </tr>\n",
              "    <tr>\n",
              "      <th>163</th>\n",
              "      <td>126268</td>\n",
              "      <td>21049</td>\n",
              "      <td>80</td>\n",
              "    </tr>\n",
              "  </tbody>\n",
              "</table>\n",
              "<p>164 rows × 3 columns</p>\n",
              "</div>\n",
              "      <button class=\"colab-df-convert\" onclick=\"convertToInteractive('df-e0dda0af-4120-47d3-8dfe-60a128cc1316')\"\n",
              "              title=\"Convert this dataframe to an interactive table.\"\n",
              "              style=\"display:none;\">\n",
              "        \n",
              "  <svg xmlns=\"http://www.w3.org/2000/svg\" height=\"24px\"viewBox=\"0 0 24 24\"\n",
              "       width=\"24px\">\n",
              "    <path d=\"M0 0h24v24H0V0z\" fill=\"none\"/>\n",
              "    <path d=\"M18.56 5.44l.94 2.06.94-2.06 2.06-.94-2.06-.94-.94-2.06-.94 2.06-2.06.94zm-11 1L8.5 8.5l.94-2.06 2.06-.94-2.06-.94L8.5 2.5l-.94 2.06-2.06.94zm10 10l.94 2.06.94-2.06 2.06-.94-2.06-.94-.94-2.06-.94 2.06-2.06.94z\"/><path d=\"M17.41 7.96l-1.37-1.37c-.4-.4-.92-.59-1.43-.59-.52 0-1.04.2-1.43.59L10.3 9.45l-7.72 7.72c-.78.78-.78 2.05 0 2.83L4 21.41c.39.39.9.59 1.41.59.51 0 1.02-.2 1.41-.59l7.78-7.78 2.81-2.81c.8-.78.8-2.07 0-2.86zM5.41 20L4 18.59l7.72-7.72 1.47 1.35L5.41 20z\"/>\n",
              "  </svg>\n",
              "      </button>\n",
              "      \n",
              "  <style>\n",
              "    .colab-df-container {\n",
              "      display:flex;\n",
              "      flex-wrap:wrap;\n",
              "      gap: 12px;\n",
              "    }\n",
              "\n",
              "    .colab-df-convert {\n",
              "      background-color: #E8F0FE;\n",
              "      border: none;\n",
              "      border-radius: 50%;\n",
              "      cursor: pointer;\n",
              "      display: none;\n",
              "      fill: #1967D2;\n",
              "      height: 32px;\n",
              "      padding: 0 0 0 0;\n",
              "      width: 32px;\n",
              "    }\n",
              "\n",
              "    .colab-df-convert:hover {\n",
              "      background-color: #E2EBFA;\n",
              "      box-shadow: 0px 1px 2px rgba(60, 64, 67, 0.3), 0px 1px 3px 1px rgba(60, 64, 67, 0.15);\n",
              "      fill: #174EA6;\n",
              "    }\n",
              "\n",
              "    [theme=dark] .colab-df-convert {\n",
              "      background-color: #3B4455;\n",
              "      fill: #D2E3FC;\n",
              "    }\n",
              "\n",
              "    [theme=dark] .colab-df-convert:hover {\n",
              "      background-color: #434B5C;\n",
              "      box-shadow: 0px 1px 3px 1px rgba(0, 0, 0, 0.15);\n",
              "      filter: drop-shadow(0px 1px 2px rgba(0, 0, 0, 0.3));\n",
              "      fill: #FFFFFF;\n",
              "    }\n",
              "  </style>\n",
              "\n",
              "      <script>\n",
              "        const buttonEl =\n",
              "          document.querySelector('#df-e0dda0af-4120-47d3-8dfe-60a128cc1316 button.colab-df-convert');\n",
              "        buttonEl.style.display =\n",
              "          google.colab.kernel.accessAllowed ? 'block' : 'none';\n",
              "\n",
              "        async function convertToInteractive(key) {\n",
              "          const element = document.querySelector('#df-e0dda0af-4120-47d3-8dfe-60a128cc1316');\n",
              "          const dataTable =\n",
              "            await google.colab.kernel.invokeFunction('convertToInteractive',\n",
              "                                                     [key], {});\n",
              "          if (!dataTable) return;\n",
              "\n",
              "          const docLinkHtml = 'Like what you see? Visit the ' +\n",
              "            '<a target=\"_blank\" href=https://colab.research.google.com/notebooks/data_table.ipynb>data table notebook</a>'\n",
              "            + ' to learn more about interactive tables.';\n",
              "          element.innerHTML = '';\n",
              "          dataTable['output_type'] = 'display_data';\n",
              "          await google.colab.output.renderOutput(dataTable, element);\n",
              "          const docLink = document.createElement('div');\n",
              "          docLink.innerHTML = docLinkHtml;\n",
              "          element.appendChild(docLink);\n",
              "        }\n",
              "      </script>\n",
              "    </div>\n",
              "  </div>\n",
              "  "
            ]
          },
          "metadata": {},
          "execution_count": 124
        }
      ]
    },
    {
      "cell_type": "code",
      "source": [
        "new_user_df = pd.pivot(new_user_scores,index=\"userId\",columns=\"animeId\",values=\"score\")\n",
        "new_user_df"
      ],
      "metadata": {
        "colab": {
          "base_uri": "https://localhost:8080/",
          "height": 141
        },
        "id": "jWAWfLUeR4QL",
        "outputId": "f53d2e92-71d1-43de-fb29-e54b3d6b73e3"
      },
      "execution_count": 125,
      "outputs": [
        {
          "output_type": "execute_result",
          "data": {
            "text/plain": [
              "animeId 1      30     32     205    226    267    320    401    405    431     \\\n",
              "userId                                                                          \n",
              "126268      90     95     95     95     80     65     55     60     75     80   \n",
              "\n",
              "animeId  ... 112301 112641 113538 114236 114308 115230 116006 124080 127720  \\\n",
              "userId   ...                                                                  \n",
              "126268   ...     60     90     80     85     75     80     70     80     90   \n",
              "\n",
              "animeId 129898  \n",
              "userId          \n",
              "126268      70  \n",
              "\n",
              "[1 rows x 164 columns]"
            ],
            "text/html": [
              "\n",
              "  <div id=\"df-c6c99486-bc67-44a3-ab96-33c826bb12f6\">\n",
              "    <div class=\"colab-df-container\">\n",
              "      <div>\n",
              "<style scoped>\n",
              "    .dataframe tbody tr th:only-of-type {\n",
              "        vertical-align: middle;\n",
              "    }\n",
              "\n",
              "    .dataframe tbody tr th {\n",
              "        vertical-align: top;\n",
              "    }\n",
              "\n",
              "    .dataframe thead th {\n",
              "        text-align: right;\n",
              "    }\n",
              "</style>\n",
              "<table border=\"1\" class=\"dataframe\">\n",
              "  <thead>\n",
              "    <tr style=\"text-align: right;\">\n",
              "      <th>animeId</th>\n",
              "      <th>1</th>\n",
              "      <th>30</th>\n",
              "      <th>32</th>\n",
              "      <th>205</th>\n",
              "      <th>226</th>\n",
              "      <th>267</th>\n",
              "      <th>320</th>\n",
              "      <th>401</th>\n",
              "      <th>405</th>\n",
              "      <th>431</th>\n",
              "      <th>...</th>\n",
              "      <th>112301</th>\n",
              "      <th>112641</th>\n",
              "      <th>113538</th>\n",
              "      <th>114236</th>\n",
              "      <th>114308</th>\n",
              "      <th>115230</th>\n",
              "      <th>116006</th>\n",
              "      <th>124080</th>\n",
              "      <th>127720</th>\n",
              "      <th>129898</th>\n",
              "    </tr>\n",
              "    <tr>\n",
              "      <th>userId</th>\n",
              "      <th></th>\n",
              "      <th></th>\n",
              "      <th></th>\n",
              "      <th></th>\n",
              "      <th></th>\n",
              "      <th></th>\n",
              "      <th></th>\n",
              "      <th></th>\n",
              "      <th></th>\n",
              "      <th></th>\n",
              "      <th></th>\n",
              "      <th></th>\n",
              "      <th></th>\n",
              "      <th></th>\n",
              "      <th></th>\n",
              "      <th></th>\n",
              "      <th></th>\n",
              "      <th></th>\n",
              "      <th></th>\n",
              "      <th></th>\n",
              "      <th></th>\n",
              "    </tr>\n",
              "  </thead>\n",
              "  <tbody>\n",
              "    <tr>\n",
              "      <th>126268</th>\n",
              "      <td>90</td>\n",
              "      <td>95</td>\n",
              "      <td>95</td>\n",
              "      <td>95</td>\n",
              "      <td>80</td>\n",
              "      <td>65</td>\n",
              "      <td>55</td>\n",
              "      <td>60</td>\n",
              "      <td>75</td>\n",
              "      <td>80</td>\n",
              "      <td>...</td>\n",
              "      <td>60</td>\n",
              "      <td>90</td>\n",
              "      <td>80</td>\n",
              "      <td>85</td>\n",
              "      <td>75</td>\n",
              "      <td>80</td>\n",
              "      <td>70</td>\n",
              "      <td>80</td>\n",
              "      <td>90</td>\n",
              "      <td>70</td>\n",
              "    </tr>\n",
              "  </tbody>\n",
              "</table>\n",
              "<p>1 rows × 164 columns</p>\n",
              "</div>\n",
              "      <button class=\"colab-df-convert\" onclick=\"convertToInteractive('df-c6c99486-bc67-44a3-ab96-33c826bb12f6')\"\n",
              "              title=\"Convert this dataframe to an interactive table.\"\n",
              "              style=\"display:none;\">\n",
              "        \n",
              "  <svg xmlns=\"http://www.w3.org/2000/svg\" height=\"24px\"viewBox=\"0 0 24 24\"\n",
              "       width=\"24px\">\n",
              "    <path d=\"M0 0h24v24H0V0z\" fill=\"none\"/>\n",
              "    <path d=\"M18.56 5.44l.94 2.06.94-2.06 2.06-.94-2.06-.94-.94-2.06-.94 2.06-2.06.94zm-11 1L8.5 8.5l.94-2.06 2.06-.94-2.06-.94L8.5 2.5l-.94 2.06-2.06.94zm10 10l.94 2.06.94-2.06 2.06-.94-2.06-.94-.94-2.06-.94 2.06-2.06.94z\"/><path d=\"M17.41 7.96l-1.37-1.37c-.4-.4-.92-.59-1.43-.59-.52 0-1.04.2-1.43.59L10.3 9.45l-7.72 7.72c-.78.78-.78 2.05 0 2.83L4 21.41c.39.39.9.59 1.41.59.51 0 1.02-.2 1.41-.59l7.78-7.78 2.81-2.81c.8-.78.8-2.07 0-2.86zM5.41 20L4 18.59l7.72-7.72 1.47 1.35L5.41 20z\"/>\n",
              "  </svg>\n",
              "      </button>\n",
              "      \n",
              "  <style>\n",
              "    .colab-df-container {\n",
              "      display:flex;\n",
              "      flex-wrap:wrap;\n",
              "      gap: 12px;\n",
              "    }\n",
              "\n",
              "    .colab-df-convert {\n",
              "      background-color: #E8F0FE;\n",
              "      border: none;\n",
              "      border-radius: 50%;\n",
              "      cursor: pointer;\n",
              "      display: none;\n",
              "      fill: #1967D2;\n",
              "      height: 32px;\n",
              "      padding: 0 0 0 0;\n",
              "      width: 32px;\n",
              "    }\n",
              "\n",
              "    .colab-df-convert:hover {\n",
              "      background-color: #E2EBFA;\n",
              "      box-shadow: 0px 1px 2px rgba(60, 64, 67, 0.3), 0px 1px 3px 1px rgba(60, 64, 67, 0.15);\n",
              "      fill: #174EA6;\n",
              "    }\n",
              "\n",
              "    [theme=dark] .colab-df-convert {\n",
              "      background-color: #3B4455;\n",
              "      fill: #D2E3FC;\n",
              "    }\n",
              "\n",
              "    [theme=dark] .colab-df-convert:hover {\n",
              "      background-color: #434B5C;\n",
              "      box-shadow: 0px 1px 3px 1px rgba(0, 0, 0, 0.15);\n",
              "      filter: drop-shadow(0px 1px 2px rgba(0, 0, 0, 0.3));\n",
              "      fill: #FFFFFF;\n",
              "    }\n",
              "  </style>\n",
              "\n",
              "      <script>\n",
              "        const buttonEl =\n",
              "          document.querySelector('#df-c6c99486-bc67-44a3-ab96-33c826bb12f6 button.colab-df-convert');\n",
              "        buttonEl.style.display =\n",
              "          google.colab.kernel.accessAllowed ? 'block' : 'none';\n",
              "\n",
              "        async function convertToInteractive(key) {\n",
              "          const element = document.querySelector('#df-c6c99486-bc67-44a3-ab96-33c826bb12f6');\n",
              "          const dataTable =\n",
              "            await google.colab.kernel.invokeFunction('convertToInteractive',\n",
              "                                                     [key], {});\n",
              "          if (!dataTable) return;\n",
              "\n",
              "          const docLinkHtml = 'Like what you see? Visit the ' +\n",
              "            '<a target=\"_blank\" href=https://colab.research.google.com/notebooks/data_table.ipynb>data table notebook</a>'\n",
              "            + ' to learn more about interactive tables.';\n",
              "          element.innerHTML = '';\n",
              "          dataTable['output_type'] = 'display_data';\n",
              "          await google.colab.output.renderOutput(dataTable, element);\n",
              "          const docLink = document.createElement('div');\n",
              "          docLink.innerHTML = docLinkHtml;\n",
              "          element.appendChild(docLink);\n",
              "        }\n",
              "      </script>\n",
              "    </div>\n",
              "  </div>\n",
              "  "
            ]
          },
          "metadata": {},
          "execution_count": 125
        }
      ]
    },
    {
      "cell_type": "markdown",
      "source": [
        "### Querying User Followings"
      ],
      "metadata": {
        "id": "LW0dAEqNR9Cx"
      }
    },
    {
      "cell_type": "markdown",
      "source": [
        "We can either query for a user's followers or users they are following. In this case, we query Kosuna's followers and their scores on the anime they've watched. We then concatenate them to make a giant sparse dataframe of scores."
      ],
      "metadata": {
        "id": "nQTQnuQ2ep5f"
      }
    },
    {
      "cell_type": "code",
      "source": [
        "id = int(user_df['data.User.id'][0])\n",
        "# can change to get user's followers or users they are following\n",
        "query = '''\n",
        "query ($userId: Int!, $page: Int, $perPage: Int) {\n",
        "    Page (page: $page, perPage: $perPage) {\n",
        "        pageInfo {\n",
        "            total\n",
        "            currentPage\n",
        "            lastPage\n",
        "            hasNextPage\n",
        "            perPage\n",
        "        }\n",
        "        followers (userId: $userId, sort: [ID]) {\n",
        "            id\n",
        "            statistics {\n",
        "              anime {\n",
        "                count\n",
        "                meanScore\n",
        "                standardDeviation\n",
        "                episodesWatched\n",
        "                scores (sort: [ID]) {\n",
        "                  score\n",
        "                  mediaIds\n",
        "                }\n",
        "              }\n",
        "            }\n",
        "            mediaListOptions {\n",
        "              scoreFormat\n",
        "            }\n",
        "            siteUrl\n",
        "        }\n",
        "    }\n",
        "}\n",
        "'''\n",
        "\n",
        "variables = {\n",
        "    'userId': id,\n",
        "    'page': 1,\n",
        "    'perPage': 50\n",
        "}\n",
        "url = 'https://graphql.anilist.co'\n",
        "\n",
        "response = requests.post(url, json={'query': query, 'variables': variables})"
      ],
      "metadata": {
        "id": "tsN4fcoBP2So"
      },
      "execution_count": 126,
      "outputs": []
    },
    {
      "cell_type": "code",
      "source": [
        "# change \"following\" to \"followers\" or vice versa\n",
        "\n",
        "results = json.loads(response.text)\n",
        "following_df = pd.json_normalize(results['data']['Page']['followers'])\n",
        "len(following_df)"
      ],
      "metadata": {
        "colab": {
          "base_uri": "https://localhost:8080/"
        },
        "id": "eU5pk3qyUffi",
        "outputId": "a05cdf08-8b95-4e89-9969-4b325fd50068"
      },
      "execution_count": 127,
      "outputs": [
        {
          "output_type": "execute_result",
          "data": {
            "text/plain": [
              "50"
            ]
          },
          "metadata": {},
          "execution_count": 127
        }
      ]
    },
    {
      "cell_type": "code",
      "source": [
        "# page = 2\n",
        "# while results['data']['Page']['pageInfo']['hasNextPage']:\n",
        "for page in range(2,21):\n",
        "  variables = {\n",
        "    'userId': id,\n",
        "    'page': page,\n",
        "    'perPage': 50\n",
        "  }\n",
        "  response = requests.post(url, json={'query': query, 'variables': variables})\n",
        "  results = json.loads(response.text)\n",
        "  following_df = pd.concat([following_df, pd.json_normalize(results['data']['Page']['followers'])])\n",
        "  # page += 1"
      ],
      "metadata": {
        "id": "TeOZSvUdcq7x"
      },
      "execution_count": 128,
      "outputs": []
    },
    {
      "cell_type": "code",
      "source": [
        "len(following_df)"
      ],
      "metadata": {
        "colab": {
          "base_uri": "https://localhost:8080/"
        },
        "id": "3vRiEmAGfhpm",
        "outputId": "fce409b4-3f97-4fff-8ced-f40d4c47d8a6"
      },
      "execution_count": 129,
      "outputs": [
        {
          "output_type": "execute_result",
          "data": {
            "text/plain": [
              "1000"
            ]
          },
          "metadata": {},
          "execution_count": 129
        }
      ]
    },
    {
      "cell_type": "code",
      "source": [
        "# make sure all users are unique and no duplicates\n",
        "\n",
        "len(following_df.id.unique())"
      ],
      "metadata": {
        "colab": {
          "base_uri": "https://localhost:8080/"
        },
        "id": "9xpy7LYDw2tZ",
        "outputId": "a92d19f0-4631-4bee-932a-82ef5a5e4a5a"
      },
      "execution_count": 130,
      "outputs": [
        {
          "output_type": "execute_result",
          "data": {
            "text/plain": [
              "1000"
            ]
          },
          "metadata": {},
          "execution_count": 130
        }
      ]
    },
    {
      "cell_type": "code",
      "source": [
        "following_df = following_df[following_df['mediaListOptions.scoreFormat'].isin([\"POINT_10_DECIMAL\",\"POINT_100\"])]\n",
        "following_df = following_df[following_df['statistics.anime.scores'].apply(lambda x: len(x) > 0)]\n",
        "following_df = following_df[following_df['statistics.anime.count'] > 0]"
      ],
      "metadata": {
        "id": "mlGhHilXbts2"
      },
      "execution_count": 131,
      "outputs": []
    },
    {
      "cell_type": "code",
      "source": [
        "# scores = pd.json_normalize(following_df['statistics.anime.scores'].iloc[0])\n",
        "# user_scores = pd.DataFrame({\"userId\": following_df['id'].iloc[0], \"animeId\": scores.mediaIds[0],\"score\":scores.score[0]})\n",
        "\n",
        "user_scores = pd.DataFrame(columns=[\"userId\",\"animeId\",\"score\"])\n",
        "\n",
        "for i in range(len(following_df)):\n",
        "  scores = pd.json_normalize(following_df['statistics.anime.scores'].iloc[i])\n",
        "  for j in range(len(scores)):\n",
        "    temp = pd.DataFrame({\"userId\": following_df['id'].iloc[i], \n",
        "                         \"animeId\": scores.mediaIds[j],\n",
        "                         \"score\":scores.score[j]})\n",
        "    user_scores = pd.concat([temp, user_scores],ignore_index=True)\n",
        "\n",
        "# user_scores"
      ],
      "metadata": {
        "id": "yZMDiVNVfbht"
      },
      "execution_count": 132,
      "outputs": []
    },
    {
      "cell_type": "code",
      "source": [
        "user_scores = user_scores.drop_duplicates(subset=['userId','animeId'])\n",
        "user_scores"
      ],
      "metadata": {
        "colab": {
          "base_uri": "https://localhost:8080/",
          "height": 424
        },
        "id": "gFrlDRxTf8Qm",
        "outputId": "bd6156cb-d563-495d-8d7f-544e842d7dec"
      },
      "execution_count": 133,
      "outputs": [
        {
          "output_type": "execute_result",
          "data": {
            "text/plain": [
              "       userId animeId score\n",
              "0      155384    1639    10\n",
              "1      155384    5391    10\n",
              "2      155384    2476    50\n",
              "3      155384   99698    50\n",
              "4      155384   99894    50\n",
              "...       ...     ...   ...\n",
              "96003     110   11433    60\n",
              "96004     110      71    60\n",
              "96005     110   11785    60\n",
              "96006     110   21457    60\n",
              "96007     110  112667    60\n",
              "\n",
              "[96008 rows x 3 columns]"
            ],
            "text/html": [
              "\n",
              "  <div id=\"df-73371d8e-6e45-47e3-b4fb-b3dfe1d6a7a4\">\n",
              "    <div class=\"colab-df-container\">\n",
              "      <div>\n",
              "<style scoped>\n",
              "    .dataframe tbody tr th:only-of-type {\n",
              "        vertical-align: middle;\n",
              "    }\n",
              "\n",
              "    .dataframe tbody tr th {\n",
              "        vertical-align: top;\n",
              "    }\n",
              "\n",
              "    .dataframe thead th {\n",
              "        text-align: right;\n",
              "    }\n",
              "</style>\n",
              "<table border=\"1\" class=\"dataframe\">\n",
              "  <thead>\n",
              "    <tr style=\"text-align: right;\">\n",
              "      <th></th>\n",
              "      <th>userId</th>\n",
              "      <th>animeId</th>\n",
              "      <th>score</th>\n",
              "    </tr>\n",
              "  </thead>\n",
              "  <tbody>\n",
              "    <tr>\n",
              "      <th>0</th>\n",
              "      <td>155384</td>\n",
              "      <td>1639</td>\n",
              "      <td>10</td>\n",
              "    </tr>\n",
              "    <tr>\n",
              "      <th>1</th>\n",
              "      <td>155384</td>\n",
              "      <td>5391</td>\n",
              "      <td>10</td>\n",
              "    </tr>\n",
              "    <tr>\n",
              "      <th>2</th>\n",
              "      <td>155384</td>\n",
              "      <td>2476</td>\n",
              "      <td>50</td>\n",
              "    </tr>\n",
              "    <tr>\n",
              "      <th>3</th>\n",
              "      <td>155384</td>\n",
              "      <td>99698</td>\n",
              "      <td>50</td>\n",
              "    </tr>\n",
              "    <tr>\n",
              "      <th>4</th>\n",
              "      <td>155384</td>\n",
              "      <td>99894</td>\n",
              "      <td>50</td>\n",
              "    </tr>\n",
              "    <tr>\n",
              "      <th>...</th>\n",
              "      <td>...</td>\n",
              "      <td>...</td>\n",
              "      <td>...</td>\n",
              "    </tr>\n",
              "    <tr>\n",
              "      <th>96003</th>\n",
              "      <td>110</td>\n",
              "      <td>11433</td>\n",
              "      <td>60</td>\n",
              "    </tr>\n",
              "    <tr>\n",
              "      <th>96004</th>\n",
              "      <td>110</td>\n",
              "      <td>71</td>\n",
              "      <td>60</td>\n",
              "    </tr>\n",
              "    <tr>\n",
              "      <th>96005</th>\n",
              "      <td>110</td>\n",
              "      <td>11785</td>\n",
              "      <td>60</td>\n",
              "    </tr>\n",
              "    <tr>\n",
              "      <th>96006</th>\n",
              "      <td>110</td>\n",
              "      <td>21457</td>\n",
              "      <td>60</td>\n",
              "    </tr>\n",
              "    <tr>\n",
              "      <th>96007</th>\n",
              "      <td>110</td>\n",
              "      <td>112667</td>\n",
              "      <td>60</td>\n",
              "    </tr>\n",
              "  </tbody>\n",
              "</table>\n",
              "<p>96008 rows × 3 columns</p>\n",
              "</div>\n",
              "      <button class=\"colab-df-convert\" onclick=\"convertToInteractive('df-73371d8e-6e45-47e3-b4fb-b3dfe1d6a7a4')\"\n",
              "              title=\"Convert this dataframe to an interactive table.\"\n",
              "              style=\"display:none;\">\n",
              "        \n",
              "  <svg xmlns=\"http://www.w3.org/2000/svg\" height=\"24px\"viewBox=\"0 0 24 24\"\n",
              "       width=\"24px\">\n",
              "    <path d=\"M0 0h24v24H0V0z\" fill=\"none\"/>\n",
              "    <path d=\"M18.56 5.44l.94 2.06.94-2.06 2.06-.94-2.06-.94-.94-2.06-.94 2.06-2.06.94zm-11 1L8.5 8.5l.94-2.06 2.06-.94-2.06-.94L8.5 2.5l-.94 2.06-2.06.94zm10 10l.94 2.06.94-2.06 2.06-.94-2.06-.94-.94-2.06-.94 2.06-2.06.94z\"/><path d=\"M17.41 7.96l-1.37-1.37c-.4-.4-.92-.59-1.43-.59-.52 0-1.04.2-1.43.59L10.3 9.45l-7.72 7.72c-.78.78-.78 2.05 0 2.83L4 21.41c.39.39.9.59 1.41.59.51 0 1.02-.2 1.41-.59l7.78-7.78 2.81-2.81c.8-.78.8-2.07 0-2.86zM5.41 20L4 18.59l7.72-7.72 1.47 1.35L5.41 20z\"/>\n",
              "  </svg>\n",
              "      </button>\n",
              "      \n",
              "  <style>\n",
              "    .colab-df-container {\n",
              "      display:flex;\n",
              "      flex-wrap:wrap;\n",
              "      gap: 12px;\n",
              "    }\n",
              "\n",
              "    .colab-df-convert {\n",
              "      background-color: #E8F0FE;\n",
              "      border: none;\n",
              "      border-radius: 50%;\n",
              "      cursor: pointer;\n",
              "      display: none;\n",
              "      fill: #1967D2;\n",
              "      height: 32px;\n",
              "      padding: 0 0 0 0;\n",
              "      width: 32px;\n",
              "    }\n",
              "\n",
              "    .colab-df-convert:hover {\n",
              "      background-color: #E2EBFA;\n",
              "      box-shadow: 0px 1px 2px rgba(60, 64, 67, 0.3), 0px 1px 3px 1px rgba(60, 64, 67, 0.15);\n",
              "      fill: #174EA6;\n",
              "    }\n",
              "\n",
              "    [theme=dark] .colab-df-convert {\n",
              "      background-color: #3B4455;\n",
              "      fill: #D2E3FC;\n",
              "    }\n",
              "\n",
              "    [theme=dark] .colab-df-convert:hover {\n",
              "      background-color: #434B5C;\n",
              "      box-shadow: 0px 1px 3px 1px rgba(0, 0, 0, 0.15);\n",
              "      filter: drop-shadow(0px 1px 2px rgba(0, 0, 0, 0.3));\n",
              "      fill: #FFFFFF;\n",
              "    }\n",
              "  </style>\n",
              "\n",
              "      <script>\n",
              "        const buttonEl =\n",
              "          document.querySelector('#df-73371d8e-6e45-47e3-b4fb-b3dfe1d6a7a4 button.colab-df-convert');\n",
              "        buttonEl.style.display =\n",
              "          google.colab.kernel.accessAllowed ? 'block' : 'none';\n",
              "\n",
              "        async function convertToInteractive(key) {\n",
              "          const element = document.querySelector('#df-73371d8e-6e45-47e3-b4fb-b3dfe1d6a7a4');\n",
              "          const dataTable =\n",
              "            await google.colab.kernel.invokeFunction('convertToInteractive',\n",
              "                                                     [key], {});\n",
              "          if (!dataTable) return;\n",
              "\n",
              "          const docLinkHtml = 'Like what you see? Visit the ' +\n",
              "            '<a target=\"_blank\" href=https://colab.research.google.com/notebooks/data_table.ipynb>data table notebook</a>'\n",
              "            + ' to learn more about interactive tables.';\n",
              "          element.innerHTML = '';\n",
              "          dataTable['output_type'] = 'display_data';\n",
              "          await google.colab.output.renderOutput(dataTable, element);\n",
              "          const docLink = document.createElement('div');\n",
              "          docLink.innerHTML = docLinkHtml;\n",
              "          element.appendChild(docLink);\n",
              "        }\n",
              "      </script>\n",
              "    </div>\n",
              "  </div>\n",
              "  "
            ]
          },
          "metadata": {},
          "execution_count": 133
        }
      ]
    },
    {
      "cell_type": "code",
      "source": [
        "user_scores_df = pd.pivot(user_scores,index=\"userId\",columns=\"animeId\",values=\"score\")"
      ],
      "metadata": {
        "id": "BfTZ8TdIJ2Bq"
      },
      "execution_count": 134,
      "outputs": []
    },
    {
      "cell_type": "code",
      "source": [
        "user_scores_df = pd.concat([user_scores_df,new_user_df])\n",
        "user_scores_df.head()"
      ],
      "metadata": {
        "id": "hkNc8Zo6zirs",
        "colab": {
          "base_uri": "https://localhost:8080/",
          "height": 331
        },
        "outputId": "80014794-6961-4695-d9df-ecbf4df13da1"
      },
      "execution_count": 135,
      "outputs": [
        {
          "output_type": "execute_result",
          "data": {
            "text/plain": [
              "animeId 1      5      6      7      15     16     17     18     19     20      \\\n",
              "userId                                                                          \n",
              "110        100    NaN    NaN    NaN    NaN    NaN    NaN    NaN     80    NaN   \n",
              "431        100    NaN    NaN    NaN    NaN    NaN    NaN    NaN     70     70   \n",
              "1492        80    NaN    NaN    NaN    NaN    NaN    NaN    NaN    100     40   \n",
              "1555       NaN    NaN    NaN    NaN    NaN    NaN    NaN    NaN    NaN    NaN   \n",
              "1799        70    NaN    NaN    NaN    NaN    NaN    NaN    NaN    NaN     45   \n",
              "\n",
              "animeId  ... 145059 145560 145813 145897 146066 146441 146566 146934 146984  \\\n",
              "userId   ...                                                                  \n",
              "110      ...    NaN    NaN    NaN    NaN    NaN    NaN    NaN    NaN    NaN   \n",
              "431      ...    NaN    NaN    NaN    NaN    NaN    NaN    NaN    NaN    NaN   \n",
              "1492     ...    NaN    NaN    NaN    NaN    NaN    NaN    NaN    NaN    NaN   \n",
              "1555     ...    NaN    NaN    NaN    NaN    NaN    NaN    NaN    NaN    NaN   \n",
              "1799     ...    NaN    NaN    NaN    NaN    NaN    NaN    NaN    NaN    NaN   \n",
              "\n",
              "animeId 148104  \n",
              "userId          \n",
              "110        NaN  \n",
              "431        NaN  \n",
              "1492       NaN  \n",
              "1555       NaN  \n",
              "1799       NaN  \n",
              "\n",
              "[5 rows x 5631 columns]"
            ],
            "text/html": [
              "\n",
              "  <div id=\"df-09dcc697-5c23-4801-bba3-5bded87f94af\">\n",
              "    <div class=\"colab-df-container\">\n",
              "      <div>\n",
              "<style scoped>\n",
              "    .dataframe tbody tr th:only-of-type {\n",
              "        vertical-align: middle;\n",
              "    }\n",
              "\n",
              "    .dataframe tbody tr th {\n",
              "        vertical-align: top;\n",
              "    }\n",
              "\n",
              "    .dataframe thead th {\n",
              "        text-align: right;\n",
              "    }\n",
              "</style>\n",
              "<table border=\"1\" class=\"dataframe\">\n",
              "  <thead>\n",
              "    <tr style=\"text-align: right;\">\n",
              "      <th>animeId</th>\n",
              "      <th>1</th>\n",
              "      <th>5</th>\n",
              "      <th>6</th>\n",
              "      <th>7</th>\n",
              "      <th>15</th>\n",
              "      <th>16</th>\n",
              "      <th>17</th>\n",
              "      <th>18</th>\n",
              "      <th>19</th>\n",
              "      <th>20</th>\n",
              "      <th>...</th>\n",
              "      <th>145059</th>\n",
              "      <th>145560</th>\n",
              "      <th>145813</th>\n",
              "      <th>145897</th>\n",
              "      <th>146066</th>\n",
              "      <th>146441</th>\n",
              "      <th>146566</th>\n",
              "      <th>146934</th>\n",
              "      <th>146984</th>\n",
              "      <th>148104</th>\n",
              "    </tr>\n",
              "    <tr>\n",
              "      <th>userId</th>\n",
              "      <th></th>\n",
              "      <th></th>\n",
              "      <th></th>\n",
              "      <th></th>\n",
              "      <th></th>\n",
              "      <th></th>\n",
              "      <th></th>\n",
              "      <th></th>\n",
              "      <th></th>\n",
              "      <th></th>\n",
              "      <th></th>\n",
              "      <th></th>\n",
              "      <th></th>\n",
              "      <th></th>\n",
              "      <th></th>\n",
              "      <th></th>\n",
              "      <th></th>\n",
              "      <th></th>\n",
              "      <th></th>\n",
              "      <th></th>\n",
              "      <th></th>\n",
              "    </tr>\n",
              "  </thead>\n",
              "  <tbody>\n",
              "    <tr>\n",
              "      <th>110</th>\n",
              "      <td>100</td>\n",
              "      <td>NaN</td>\n",
              "      <td>NaN</td>\n",
              "      <td>NaN</td>\n",
              "      <td>NaN</td>\n",
              "      <td>NaN</td>\n",
              "      <td>NaN</td>\n",
              "      <td>NaN</td>\n",
              "      <td>80</td>\n",
              "      <td>NaN</td>\n",
              "      <td>...</td>\n",
              "      <td>NaN</td>\n",
              "      <td>NaN</td>\n",
              "      <td>NaN</td>\n",
              "      <td>NaN</td>\n",
              "      <td>NaN</td>\n",
              "      <td>NaN</td>\n",
              "      <td>NaN</td>\n",
              "      <td>NaN</td>\n",
              "      <td>NaN</td>\n",
              "      <td>NaN</td>\n",
              "    </tr>\n",
              "    <tr>\n",
              "      <th>431</th>\n",
              "      <td>100</td>\n",
              "      <td>NaN</td>\n",
              "      <td>NaN</td>\n",
              "      <td>NaN</td>\n",
              "      <td>NaN</td>\n",
              "      <td>NaN</td>\n",
              "      <td>NaN</td>\n",
              "      <td>NaN</td>\n",
              "      <td>70</td>\n",
              "      <td>70</td>\n",
              "      <td>...</td>\n",
              "      <td>NaN</td>\n",
              "      <td>NaN</td>\n",
              "      <td>NaN</td>\n",
              "      <td>NaN</td>\n",
              "      <td>NaN</td>\n",
              "      <td>NaN</td>\n",
              "      <td>NaN</td>\n",
              "      <td>NaN</td>\n",
              "      <td>NaN</td>\n",
              "      <td>NaN</td>\n",
              "    </tr>\n",
              "    <tr>\n",
              "      <th>1492</th>\n",
              "      <td>80</td>\n",
              "      <td>NaN</td>\n",
              "      <td>NaN</td>\n",
              "      <td>NaN</td>\n",
              "      <td>NaN</td>\n",
              "      <td>NaN</td>\n",
              "      <td>NaN</td>\n",
              "      <td>NaN</td>\n",
              "      <td>100</td>\n",
              "      <td>40</td>\n",
              "      <td>...</td>\n",
              "      <td>NaN</td>\n",
              "      <td>NaN</td>\n",
              "      <td>NaN</td>\n",
              "      <td>NaN</td>\n",
              "      <td>NaN</td>\n",
              "      <td>NaN</td>\n",
              "      <td>NaN</td>\n",
              "      <td>NaN</td>\n",
              "      <td>NaN</td>\n",
              "      <td>NaN</td>\n",
              "    </tr>\n",
              "    <tr>\n",
              "      <th>1555</th>\n",
              "      <td>NaN</td>\n",
              "      <td>NaN</td>\n",
              "      <td>NaN</td>\n",
              "      <td>NaN</td>\n",
              "      <td>NaN</td>\n",
              "      <td>NaN</td>\n",
              "      <td>NaN</td>\n",
              "      <td>NaN</td>\n",
              "      <td>NaN</td>\n",
              "      <td>NaN</td>\n",
              "      <td>...</td>\n",
              "      <td>NaN</td>\n",
              "      <td>NaN</td>\n",
              "      <td>NaN</td>\n",
              "      <td>NaN</td>\n",
              "      <td>NaN</td>\n",
              "      <td>NaN</td>\n",
              "      <td>NaN</td>\n",
              "      <td>NaN</td>\n",
              "      <td>NaN</td>\n",
              "      <td>NaN</td>\n",
              "    </tr>\n",
              "    <tr>\n",
              "      <th>1799</th>\n",
              "      <td>70</td>\n",
              "      <td>NaN</td>\n",
              "      <td>NaN</td>\n",
              "      <td>NaN</td>\n",
              "      <td>NaN</td>\n",
              "      <td>NaN</td>\n",
              "      <td>NaN</td>\n",
              "      <td>NaN</td>\n",
              "      <td>NaN</td>\n",
              "      <td>45</td>\n",
              "      <td>...</td>\n",
              "      <td>NaN</td>\n",
              "      <td>NaN</td>\n",
              "      <td>NaN</td>\n",
              "      <td>NaN</td>\n",
              "      <td>NaN</td>\n",
              "      <td>NaN</td>\n",
              "      <td>NaN</td>\n",
              "      <td>NaN</td>\n",
              "      <td>NaN</td>\n",
              "      <td>NaN</td>\n",
              "    </tr>\n",
              "  </tbody>\n",
              "</table>\n",
              "<p>5 rows × 5631 columns</p>\n",
              "</div>\n",
              "      <button class=\"colab-df-convert\" onclick=\"convertToInteractive('df-09dcc697-5c23-4801-bba3-5bded87f94af')\"\n",
              "              title=\"Convert this dataframe to an interactive table.\"\n",
              "              style=\"display:none;\">\n",
              "        \n",
              "  <svg xmlns=\"http://www.w3.org/2000/svg\" height=\"24px\"viewBox=\"0 0 24 24\"\n",
              "       width=\"24px\">\n",
              "    <path d=\"M0 0h24v24H0V0z\" fill=\"none\"/>\n",
              "    <path d=\"M18.56 5.44l.94 2.06.94-2.06 2.06-.94-2.06-.94-.94-2.06-.94 2.06-2.06.94zm-11 1L8.5 8.5l.94-2.06 2.06-.94-2.06-.94L8.5 2.5l-.94 2.06-2.06.94zm10 10l.94 2.06.94-2.06 2.06-.94-2.06-.94-.94-2.06-.94 2.06-2.06.94z\"/><path d=\"M17.41 7.96l-1.37-1.37c-.4-.4-.92-.59-1.43-.59-.52 0-1.04.2-1.43.59L10.3 9.45l-7.72 7.72c-.78.78-.78 2.05 0 2.83L4 21.41c.39.39.9.59 1.41.59.51 0 1.02-.2 1.41-.59l7.78-7.78 2.81-2.81c.8-.78.8-2.07 0-2.86zM5.41 20L4 18.59l7.72-7.72 1.47 1.35L5.41 20z\"/>\n",
              "  </svg>\n",
              "      </button>\n",
              "      \n",
              "  <style>\n",
              "    .colab-df-container {\n",
              "      display:flex;\n",
              "      flex-wrap:wrap;\n",
              "      gap: 12px;\n",
              "    }\n",
              "\n",
              "    .colab-df-convert {\n",
              "      background-color: #E8F0FE;\n",
              "      border: none;\n",
              "      border-radius: 50%;\n",
              "      cursor: pointer;\n",
              "      display: none;\n",
              "      fill: #1967D2;\n",
              "      height: 32px;\n",
              "      padding: 0 0 0 0;\n",
              "      width: 32px;\n",
              "    }\n",
              "\n",
              "    .colab-df-convert:hover {\n",
              "      background-color: #E2EBFA;\n",
              "      box-shadow: 0px 1px 2px rgba(60, 64, 67, 0.3), 0px 1px 3px 1px rgba(60, 64, 67, 0.15);\n",
              "      fill: #174EA6;\n",
              "    }\n",
              "\n",
              "    [theme=dark] .colab-df-convert {\n",
              "      background-color: #3B4455;\n",
              "      fill: #D2E3FC;\n",
              "    }\n",
              "\n",
              "    [theme=dark] .colab-df-convert:hover {\n",
              "      background-color: #434B5C;\n",
              "      box-shadow: 0px 1px 3px 1px rgba(0, 0, 0, 0.15);\n",
              "      filter: drop-shadow(0px 1px 2px rgba(0, 0, 0, 0.3));\n",
              "      fill: #FFFFFF;\n",
              "    }\n",
              "  </style>\n",
              "\n",
              "      <script>\n",
              "        const buttonEl =\n",
              "          document.querySelector('#df-09dcc697-5c23-4801-bba3-5bded87f94af button.colab-df-convert');\n",
              "        buttonEl.style.display =\n",
              "          google.colab.kernel.accessAllowed ? 'block' : 'none';\n",
              "\n",
              "        async function convertToInteractive(key) {\n",
              "          const element = document.querySelector('#df-09dcc697-5c23-4801-bba3-5bded87f94af');\n",
              "          const dataTable =\n",
              "            await google.colab.kernel.invokeFunction('convertToInteractive',\n",
              "                                                     [key], {});\n",
              "          if (!dataTable) return;\n",
              "\n",
              "          const docLinkHtml = 'Like what you see? Visit the ' +\n",
              "            '<a target=\"_blank\" href=https://colab.research.google.com/notebooks/data_table.ipynb>data table notebook</a>'\n",
              "            + ' to learn more about interactive tables.';\n",
              "          element.innerHTML = '';\n",
              "          dataTable['output_type'] = 'display_data';\n",
              "          await google.colab.output.renderOutput(dataTable, element);\n",
              "          const docLink = document.createElement('div');\n",
              "          docLink.innerHTML = docLinkHtml;\n",
              "          element.appendChild(docLink);\n",
              "        }\n",
              "      </script>\n",
              "    </div>\n",
              "  </div>\n",
              "  "
            ]
          },
          "metadata": {},
          "execution_count": 135
        }
      ]
    },
    {
      "cell_type": "markdown",
      "source": [
        "## Clustering Anime by Popularity/Viewership"
      ],
      "metadata": {
        "id": "C39hy6Bk8sL8"
      }
    },
    {
      "cell_type": "code",
      "source": [
        "from sklearn.decomposition import PCA\n",
        "from sklearn.cluster import KMeans"
      ],
      "metadata": {
        "id": "T_piefm9YMzh"
      },
      "execution_count": 68,
      "outputs": []
    },
    {
      "cell_type": "code",
      "source": [
        "pca = PCA(n_components = 3)\n",
        "\n",
        "# getting large table of 0s (user has not seen) and 1s (user has seen)\n",
        "crosstab_data = pd.crosstab(user_scores.animeId, user_scores.userId)\n",
        "crosstab_data_pca = pca.fit_transform(crosstab_data)\n",
        "crosstab_data.head()"
      ],
      "metadata": {
        "id": "LAvAv4T5NJOT"
      },
      "execution_count": 69,
      "outputs": []
    },
    {
      "cell_type": "code",
      "source": [
        "# final_df_c_pca.shape\n",
        "crosstab_data_pca.shape"
      ],
      "metadata": {
        "colab": {
          "base_uri": "https://localhost:8080/"
        },
        "id": "TbFa2Uz6Qhbi",
        "outputId": "45191309-62fd-4648-97d2-bd9b80c81065"
      },
      "execution_count": 70,
      "outputs": [
        {
          "output_type": "execute_result",
          "data": {
            "text/plain": [
              "(5631, 3)"
            ]
          },
          "metadata": {},
          "execution_count": 70
        }
      ]
    },
    {
      "cell_type": "code",
      "source": [
        "cluster_df = pd.DataFrame(crosstab_data_pca)"
      ],
      "metadata": {
        "id": "3g7ap7N2XUoA"
      },
      "execution_count": 71,
      "outputs": []
    },
    {
      "cell_type": "code",
      "source": [
        "# elbow method\n",
        "errors = []\n",
        "for n in range(1,9):\n",
        "  kmeans = KMeans(n_clusters=n)\n",
        "  kmeans.fit(cluster_df)\n",
        "  errors.append(kmeans.inertia_)"
      ],
      "metadata": {
        "id": "p3_dGWcuat_x"
      },
      "execution_count": 72,
      "outputs": []
    },
    {
      "cell_type": "code",
      "source": [
        "plt.figure(figsize=(8,6))\n",
        "plt.plot(range(1,9),errors)\n",
        "plt.xlabel(\"Number of clusters\")\n",
        "plt.ylabel(\"Error\")"
      ],
      "metadata": {
        "colab": {
          "base_uri": "https://localhost:8080/",
          "height": 405
        },
        "id": "9Gl1kDhYfuzB",
        "outputId": "993934ff-9767-41ce-9734-f8d923cba9d6"
      },
      "execution_count": 73,
      "outputs": [
        {
          "output_type": "execute_result",
          "data": {
            "text/plain": [
              "Text(0, 0.5, 'Error')"
            ]
          },
          "metadata": {},
          "execution_count": 73
        },
        {
          "output_type": "display_data",
          "data": {
            "text/plain": [
              "<Figure size 576x432 with 1 Axes>"
            ],
            "image/png": "[encoded data removed]"
          },
          "metadata": {
            "needs_background": "light"
          }
        }
      ]
    },
    {
      "cell_type": "code",
      "source": [
        "kmeans = KMeans(n_clusters=3)\n",
        "kmeans.fit(crosstab_data_pca)"
      ],
      "metadata": {
        "colab": {
          "base_uri": "https://localhost:8080/"
        },
        "id": "v0CZ-hc7SPog",
        "outputId": "0daf1ee9-e112-41f8-952e-a9be6c45d832"
      },
      "execution_count": 74,
      "outputs": [
        {
          "output_type": "execute_result",
          "data": {
            "text/plain": [
              "KMeans(n_clusters=3)"
            ]
          },
          "metadata": {},
          "execution_count": 74
        }
      ]
    },
    {
      "cell_type": "code",
      "source": [
        "c_preds = kmeans.predict(cluster_df)\n",
        "pd.DataFrame(crosstab_data_pca).plot.scatter(\n",
        "    x=0,y=1,c=c_preds,colormap='tab10',figsize=(8,6)\n",
        "  )"
      ],
      "metadata": {
        "colab": {
          "base_uri": "https://localhost:8080/",
          "height": 384
        },
        "id": "h3_T-wfXZUmr",
        "outputId": "c4c3affe-f983-41bf-c557-4aa313d3f3a4"
      },
      "execution_count": 75,
      "outputs": [
        {
          "output_type": "execute_result",
          "data": {
            "text/plain": [
              "<matplotlib.axes._subplots.AxesSubplot at 0x7f3666fbaf10>"
            ]
          },
          "metadata": {},
          "execution_count": 75
        },
        {
          "output_type": "display_data",
          "data": {
            "text/plain": [
              "<Figure size 576x432 with 2 Axes>"
            ],
            "image/png": "[encoded data removed]"
          },
          "metadata": {
            "needs_background": "light"
          }
        }
      ]
    },
    {
      "cell_type": "code",
      "source": [
        "fig = plt.figure(figsize=(10,8))\n",
        "ax = fig.add_subplot(projection='3d')\n",
        "ax.scatter(cluster_df[0],cluster_df[1],cluster_df[2],c=c_preds)\n",
        "ax.set_xlabel('PC 1')\n",
        "ax.set_ylabel('PC 2')\n",
        "ax.set_zlabel('PC 3')"
      ],
      "metadata": {
        "colab": {
          "base_uri": "https://localhost:8080/",
          "height": 483
        },
        "id": "vQUYXxS6f4uL",
        "outputId": "979df3dc-1e0d-4d0b-a941-cdb9a8f335f6"
      },
      "execution_count": 76,
      "outputs": [
        {
          "output_type": "execute_result",
          "data": {
            "text/plain": [
              "Text(0.5, 0, 'PC 3')"
            ]
          },
          "metadata": {},
          "execution_count": 76
        },
        {
          "output_type": "display_data",
          "data": {
            "text/plain": [
              "<Figure size 720x576 with 1 Axes>"
            ],
            "image/png": "[encoded data removed]"
          },
          "metadata": {
            "needs_background": "light"
          }
        }
      ]
    },
    {
      "cell_type": "code",
      "source": [
        "anime_df = pd.read_csv(\"/content/drive/MyDrive/Anime project/anime-1991-2021_v3.csv\")\n",
        "anime_df.set_index('id',inplace=True)\n",
        "anime_df = anime_df[anime_df.format != 'OVA']"
      ],
      "metadata": {
        "id": "A0XakWYQqRJr"
      },
      "execution_count": 77,
      "outputs": []
    },
    {
      "cell_type": "markdown",
      "source": [
        "For each anime per cluster, we calculate the proportion of the users who have consumed it."
      ],
      "metadata": {
        "id": "hmQBK2IbTO6W"
      }
    },
    {
      "cell_type": "code",
      "source": [
        "crosstab_data['cluster'] = c_preds\n",
        "merged_df = pd.merge(anime_df,crosstab_data,left_index=True,right_index=True)\n",
        "# c0 = crosstab_data[crosstab_data.cluster == 0].drop('cluster',axis=1).mean(axis=1).sort_values(ascending=False)[:10]\n",
        "c0 = merged_df[merged_df.cluster==0].drop('cluster',axis=1).iloc[:,len(anime_df.columns):].mean(axis=1).sort_values(ascending=False)\n",
        "c0.index = merged_df.loc[c0.index]['title']\n",
        "c0"
      ],
      "metadata": {
        "colab": {
          "base_uri": "https://localhost:8080/"
        },
        "id": "_8DFLNaWmeL6",
        "outputId": "dc597df9-c3cd-45d4-f584-f7956514f028"
      },
      "execution_count": 78,
      "outputs": [
        {
          "output_type": "execute_result",
          "data": {
            "text/plain": [
              "title\n",
              "Evangelion: 2.0 You Can (Not) Advance                      0.097122\n",
              "Puella Magi Madoka Magica the Movie Part III: Rebellion    0.095324\n",
              "Evangelion: 3.0 You Can (Not) Redo                         0.093525\n",
              "Redline                                                    0.091727\n",
              "The Anthem of the Heart                                    0.091727\n",
              "                                                             ...   \n",
              "Monster Rancher (2000)                                     0.001799\n",
              "Boys Be...                                                 0.001799\n",
              "Carried by the Wind: Tsukikage Ran                         0.001799\n",
              "Hand Maid May                                              0.001799\n",
              "Ristorante Paradiso                                        0.001799\n",
              "Length: 1746, dtype: float64"
            ]
          },
          "metadata": {},
          "execution_count": 78
        }
      ]
    },
    {
      "cell_type": "code",
      "source": [
        "# c1 = crosstab_data[crosstab_data.cluster == 1].drop('cluster',axis=1).mean(axis=1).sort_values(ascending=False)[:10]\n",
        "# c1.index = anime_df.loc[c1.index]['title']\n",
        "c1 = merged_df[merged_df.cluster==1].drop('cluster',axis=1).iloc[:,len(anime_df.columns):].mean(axis=1).sort_values(ascending=False)\n",
        "c1.index = merged_df.loc[c1.index]['title']\n",
        "c1"
      ],
      "metadata": {
        "colab": {
          "base_uri": "https://localhost:8080/"
        },
        "id": "PbJSjZppot7x",
        "outputId": "cbf5b40d-c9ad-4bc7-b568-aea7985c10cd"
      },
      "execution_count": 79,
      "outputs": [
        {
          "output_type": "execute_result",
          "data": {
            "text/plain": [
              "title\n",
              "Attack on Titan                     0.750000\n",
              "Sword Art Online                    0.724820\n",
              "One-Punch Man                       0.703237\n",
              "Your Name.                          0.696043\n",
              "My Hero Academia                    0.690647\n",
              "                                      ...   \n",
              "Assassination Classroom 2           0.316547\n",
              "Food Wars! The Second Plate         0.311151\n",
              "The Quintessential Quintuplets      0.307554\n",
              "Seraph of the End: Vampire Reign    0.303957\n",
              "Rent-a-Girlfriend                   0.300360\n",
              "Length: 113, dtype: float64"
            ]
          },
          "metadata": {},
          "execution_count": 79
        }
      ]
    },
    {
      "cell_type": "code",
      "source": [
        "# c2 = crosstab_data[crosstab_data.cluster == 2].drop('cluster',axis=1).mean(axis=1).sort_values(ascending=False)[:10]\n",
        "# c2.index = anime_df.loc[c2.index]['title']\n",
        "c2 = merged_df[merged_df.cluster==2].drop('cluster',axis=1).iloc[:,len(anime_df.columns):].mean(axis=1).sort_values(ascending=False)\n",
        "c2.index = merged_df.loc[c2.index]['title']\n",
        "c2"
      ],
      "metadata": {
        "colab": {
          "base_uri": "https://localhost:8080/"
        },
        "id": "MNlMya95qEXZ",
        "outputId": "96a901c0-20c3-4969-8147-7f2d4846ea57"
      },
      "execution_count": 80,
      "outputs": [
        {
          "output_type": "execute_result",
          "data": {
            "text/plain": [
              "title\n",
              "Terror in Resonance            0.316547\n",
              "K-ON!                          0.311151\n",
              "Bleach                         0.303957\n",
              "HAIKYU!! 3rd Season            0.298561\n",
              "Log Horizon                    0.296763\n",
              "                                 ...   \n",
              "Fuuka                          0.088129\n",
              "The Way of the Househusband    0.086331\n",
              "Pop Team Epic                  0.084532\n",
              "BEASTARS Season 2              0.084532\n",
              "The Day I Became a God         0.080935\n",
              "Length: 343, dtype: float64"
            ]
          },
          "metadata": {},
          "execution_count": 80
        }
      ]
    },
    {
      "cell_type": "markdown",
      "source": [
        "It seems that our first cluster contains anime that seem to be the least popular/viewed from the data on users I collected. The second cluster contains the most popular mainstream anime, and the third contains shows that are somewhere in between."
      ],
      "metadata": {
        "id": "hDhqilcm1IUE"
      }
    },
    {
      "cell_type": "markdown",
      "source": [
        "## Clustering by Viewer Scores"
      ],
      "metadata": {
        "id": "PhtJpfzb6Cyh"
      }
    },
    {
      "cell_type": "markdown",
      "source": [
        "Now instead of looking at whether or not a user has seen an anime, we look into the users' actual scores to see if there are any clear clusters."
      ],
      "metadata": {
        "id": "ODulxNK8dRM1"
      }
    },
    {
      "cell_type": "code",
      "source": [
        "# centering scores to account for generous and harsh scorers. Fill in NAs with 0s as the average\n",
        "\n",
        "user_scores_df_c = (user_scores_df.T-user_scores_df.T.mean()).fillna(0).T\n",
        "user_scores_df_c.head()"
      ],
      "metadata": {
        "id": "Kn7gpBXUzEdS",
        "colab": {
          "base_uri": "https://localhost:8080/",
          "height": 331
        },
        "outputId": "9081472b-baa7-49aa-bdd4-0559313d7a6f"
      },
      "execution_count": 121,
      "outputs": [
        {
          "output_type": "execute_result",
          "data": {
            "text/plain": [
              "animeId     1       5       6       7       15      16      17      18      \\\n",
              "userId                                                                       \n",
              "110      32.112403     0.0     0.0     0.0     0.0     0.0     0.0     0.0   \n",
              "431      38.256705     0.0     0.0     0.0     0.0     0.0     0.0     0.0   \n",
              "1492      5.668103     0.0     0.0     0.0     0.0     0.0     0.0     0.0   \n",
              "1555      0.000000     0.0     0.0     0.0     0.0     0.0     0.0     0.0   \n",
              "1799      7.045455     0.0     0.0     0.0     0.0     0.0     0.0     0.0   \n",
              "\n",
              "animeId     19         20      ...  145059  145560  145813  145897  146066  \\\n",
              "userId                         ...                                           \n",
              "110      12.112403   0.000000  ...     0.0     0.0     0.0     0.0     0.0   \n",
              "431       8.256705   8.256705  ...     0.0     0.0     0.0     0.0     0.0   \n",
              "1492     25.668103 -34.331897  ...     0.0     0.0     0.0     0.0     0.0   \n",
              "1555      0.000000   0.000000  ...     0.0     0.0     0.0     0.0     0.0   \n",
              "1799      0.000000 -17.954545  ...     0.0     0.0     0.0     0.0     0.0   \n",
              "\n",
              "animeId  146441  146566  146934  146984  148104  \n",
              "userId                                           \n",
              "110         0.0     0.0     0.0     0.0     0.0  \n",
              "431         0.0     0.0     0.0     0.0     0.0  \n",
              "1492        0.0     0.0     0.0     0.0     0.0  \n",
              "1555        0.0     0.0     0.0     0.0     0.0  \n",
              "1799        0.0     0.0     0.0     0.0     0.0  \n",
              "\n",
              "[5 rows x 5631 columns]"
            ],
            "text/html": [
              "\n",
              "  <div id=\"df-9d0f577d-853b-48ea-8c87-8a15d6ade7b4\">\n",
              "    <div class=\"colab-df-container\">\n",
              "      <div>\n",
              "<style scoped>\n",
              "    .dataframe tbody tr th:only-of-type {\n",
              "        vertical-align: middle;\n",
              "    }\n",
              "\n",
              "    .dataframe tbody tr th {\n",
              "        vertical-align: top;\n",
              "    }\n",
              "\n",
              "    .dataframe thead th {\n",
              "        text-align: right;\n",
              "    }\n",
              "</style>\n",
              "<table border=\"1\" class=\"dataframe\">\n",
              "  <thead>\n",
              "    <tr style=\"text-align: right;\">\n",
              "      <th>animeId</th>\n",
              "      <th>1</th>\n",
              "      <th>5</th>\n",
              "      <th>6</th>\n",
              "      <th>7</th>\n",
              "      <th>15</th>\n",
              "      <th>16</th>\n",
              "      <th>17</th>\n",
              "      <th>18</th>\n",
              "      <th>19</th>\n",
              "      <th>20</th>\n",
              "      <th>...</th>\n",
              "      <th>145059</th>\n",
              "      <th>145560</th>\n",
              "      <th>145813</th>\n",
              "      <th>145897</th>\n",
              "      <th>146066</th>\n",
              "      <th>146441</th>\n",
              "      <th>146566</th>\n",
              "      <th>146934</th>\n",
              "      <th>146984</th>\n",
              "      <th>148104</th>\n",
              "    </tr>\n",
              "    <tr>\n",
              "      <th>userId</th>\n",
              "      <th></th>\n",
              "      <th></th>\n",
              "      <th></th>\n",
              "      <th></th>\n",
              "      <th></th>\n",
              "      <th></th>\n",
              "      <th></th>\n",
              "      <th></th>\n",
              "      <th></th>\n",
              "      <th></th>\n",
              "      <th></th>\n",
              "      <th></th>\n",
              "      <th></th>\n",
              "      <th></th>\n",
              "      <th></th>\n",
              "      <th></th>\n",
              "      <th></th>\n",
              "      <th></th>\n",
              "      <th></th>\n",
              "      <th></th>\n",
              "      <th></th>\n",
              "    </tr>\n",
              "  </thead>\n",
              "  <tbody>\n",
              "    <tr>\n",
              "      <th>110</th>\n",
              "      <td>32.112403</td>\n",
              "      <td>0.0</td>\n",
              "      <td>0.0</td>\n",
              "      <td>0.0</td>\n",
              "      <td>0.0</td>\n",
              "      <td>0.0</td>\n",
              "      <td>0.0</td>\n",
              "      <td>0.0</td>\n",
              "      <td>12.112403</td>\n",
              "      <td>0.000000</td>\n",
              "      <td>...</td>\n",
              "      <td>0.0</td>\n",
              "      <td>0.0</td>\n",
              "      <td>0.0</td>\n",
              "      <td>0.0</td>\n",
              "      <td>0.0</td>\n",
              "      <td>0.0</td>\n",
              "      <td>0.0</td>\n",
              "      <td>0.0</td>\n",
              "      <td>0.0</td>\n",
              "      <td>0.0</td>\n",
              "    </tr>\n",
              "    <tr>\n",
              "      <th>431</th>\n",
              "      <td>38.256705</td>\n",
              "      <td>0.0</td>\n",
              "      <td>0.0</td>\n",
              "      <td>0.0</td>\n",
              "      <td>0.0</td>\n",
              "      <td>0.0</td>\n",
              "      <td>0.0</td>\n",
              "      <td>0.0</td>\n",
              "      <td>8.256705</td>\n",
              "      <td>8.256705</td>\n",
              "      <td>...</td>\n",
              "      <td>0.0</td>\n",
              "      <td>0.0</td>\n",
              "      <td>0.0</td>\n",
              "      <td>0.0</td>\n",
              "      <td>0.0</td>\n",
              "      <td>0.0</td>\n",
              "      <td>0.0</td>\n",
              "      <td>0.0</td>\n",
              "      <td>0.0</td>\n",
              "      <td>0.0</td>\n",
              "    </tr>\n",
              "    <tr>\n",
              "      <th>1492</th>\n",
              "      <td>5.668103</td>\n",
              "      <td>0.0</td>\n",
              "      <td>0.0</td>\n",
              "      <td>0.0</td>\n",
              "      <td>0.0</td>\n",
              "      <td>0.0</td>\n",
              "      <td>0.0</td>\n",
              "      <td>0.0</td>\n",
              "      <td>25.668103</td>\n",
              "      <td>-34.331897</td>\n",
              "      <td>...</td>\n",
              "      <td>0.0</td>\n",
              "      <td>0.0</td>\n",
              "      <td>0.0</td>\n",
              "      <td>0.0</td>\n",
              "      <td>0.0</td>\n",
              "      <td>0.0</td>\n",
              "      <td>0.0</td>\n",
              "      <td>0.0</td>\n",
              "      <td>0.0</td>\n",
              "      <td>0.0</td>\n",
              "    </tr>\n",
              "    <tr>\n",
              "      <th>1555</th>\n",
              "      <td>0.000000</td>\n",
              "      <td>0.0</td>\n",
              "      <td>0.0</td>\n",
              "      <td>0.0</td>\n",
              "      <td>0.0</td>\n",
              "      <td>0.0</td>\n",
              "      <td>0.0</td>\n",
              "      <td>0.0</td>\n",
              "      <td>0.000000</td>\n",
              "      <td>0.000000</td>\n",
              "      <td>...</td>\n",
              "      <td>0.0</td>\n",
              "      <td>0.0</td>\n",
              "      <td>0.0</td>\n",
              "      <td>0.0</td>\n",
              "      <td>0.0</td>\n",
              "      <td>0.0</td>\n",
              "      <td>0.0</td>\n",
              "      <td>0.0</td>\n",
              "      <td>0.0</td>\n",
              "      <td>0.0</td>\n",
              "    </tr>\n",
              "    <tr>\n",
              "      <th>1799</th>\n",
              "      <td>7.045455</td>\n",
              "      <td>0.0</td>\n",
              "      <td>0.0</td>\n",
              "      <td>0.0</td>\n",
              "      <td>0.0</td>\n",
              "      <td>0.0</td>\n",
              "      <td>0.0</td>\n",
              "      <td>0.0</td>\n",
              "      <td>0.000000</td>\n",
              "      <td>-17.954545</td>\n",
              "      <td>...</td>\n",
              "      <td>0.0</td>\n",
              "      <td>0.0</td>\n",
              "      <td>0.0</td>\n",
              "      <td>0.0</td>\n",
              "      <td>0.0</td>\n",
              "      <td>0.0</td>\n",
              "      <td>0.0</td>\n",
              "      <td>0.0</td>\n",
              "      <td>0.0</td>\n",
              "      <td>0.0</td>\n",
              "    </tr>\n",
              "  </tbody>\n",
              "</table>\n",
              "<p>5 rows × 5631 columns</p>\n",
              "</div>\n",
              "      <button class=\"colab-df-convert\" onclick=\"convertToInteractive('df-9d0f577d-853b-48ea-8c87-8a15d6ade7b4')\"\n",
              "              title=\"Convert this dataframe to an interactive table.\"\n",
              "              style=\"display:none;\">\n",
              "        \n",
              "  <svg xmlns=\"http://www.w3.org/2000/svg\" height=\"24px\"viewBox=\"0 0 24 24\"\n",
              "       width=\"24px\">\n",
              "    <path d=\"M0 0h24v24H0V0z\" fill=\"none\"/>\n",
              "    <path d=\"M18.56 5.44l.94 2.06.94-2.06 2.06-.94-2.06-.94-.94-2.06-.94 2.06-2.06.94zm-11 1L8.5 8.5l.94-2.06 2.06-.94-2.06-.94L8.5 2.5l-.94 2.06-2.06.94zm10 10l.94 2.06.94-2.06 2.06-.94-2.06-.94-.94-2.06-.94 2.06-2.06.94z\"/><path d=\"M17.41 7.96l-1.37-1.37c-.4-.4-.92-.59-1.43-.59-.52 0-1.04.2-1.43.59L10.3 9.45l-7.72 7.72c-.78.78-.78 2.05 0 2.83L4 21.41c.39.39.9.59 1.41.59.51 0 1.02-.2 1.41-.59l7.78-7.78 2.81-2.81c.8-.78.8-2.07 0-2.86zM5.41 20L4 18.59l7.72-7.72 1.47 1.35L5.41 20z\"/>\n",
              "  </svg>\n",
              "      </button>\n",
              "      \n",
              "  <style>\n",
              "    .colab-df-container {\n",
              "      display:flex;\n",
              "      flex-wrap:wrap;\n",
              "      gap: 12px;\n",
              "    }\n",
              "\n",
              "    .colab-df-convert {\n",
              "      background-color: #E8F0FE;\n",
              "      border: none;\n",
              "      border-radius: 50%;\n",
              "      cursor: pointer;\n",
              "      display: none;\n",
              "      fill: #1967D2;\n",
              "      height: 32px;\n",
              "      padding: 0 0 0 0;\n",
              "      width: 32px;\n",
              "    }\n",
              "\n",
              "    .colab-df-convert:hover {\n",
              "      background-color: #E2EBFA;\n",
              "      box-shadow: 0px 1px 2px rgba(60, 64, 67, 0.3), 0px 1px 3px 1px rgba(60, 64, 67, 0.15);\n",
              "      fill: #174EA6;\n",
              "    }\n",
              "\n",
              "    [theme=dark] .colab-df-convert {\n",
              "      background-color: #3B4455;\n",
              "      fill: #D2E3FC;\n",
              "    }\n",
              "\n",
              "    [theme=dark] .colab-df-convert:hover {\n",
              "      background-color: #434B5C;\n",
              "      box-shadow: 0px 1px 3px 1px rgba(0, 0, 0, 0.15);\n",
              "      filter: drop-shadow(0px 1px 2px rgba(0, 0, 0, 0.3));\n",
              "      fill: #FFFFFF;\n",
              "    }\n",
              "  </style>\n",
              "\n",
              "      <script>\n",
              "        const buttonEl =\n",
              "          document.querySelector('#df-9d0f577d-853b-48ea-8c87-8a15d6ade7b4 button.colab-df-convert');\n",
              "        buttonEl.style.display =\n",
              "          google.colab.kernel.accessAllowed ? 'block' : 'none';\n",
              "\n",
              "        async function convertToInteractive(key) {\n",
              "          const element = document.querySelector('#df-9d0f577d-853b-48ea-8c87-8a15d6ade7b4');\n",
              "          const dataTable =\n",
              "            await google.colab.kernel.invokeFunction('convertToInteractive',\n",
              "                                                     [key], {});\n",
              "          if (!dataTable) return;\n",
              "\n",
              "          const docLinkHtml = 'Like what you see? Visit the ' +\n",
              "            '<a target=\"_blank\" href=https://colab.research.google.com/notebooks/data_table.ipynb>data table notebook</a>'\n",
              "            + ' to learn more about interactive tables.';\n",
              "          element.innerHTML = '';\n",
              "          dataTable['output_type'] = 'display_data';\n",
              "          await google.colab.output.renderOutput(dataTable, element);\n",
              "          const docLink = document.createElement('div');\n",
              "          docLink.innerHTML = docLinkHtml;\n",
              "          element.appendChild(docLink);\n",
              "        }\n",
              "      </script>\n",
              "    </div>\n",
              "  </div>\n",
              "  "
            ]
          },
          "metadata": {},
          "execution_count": 121
        }
      ]
    },
    {
      "cell_type": "code",
      "source": [
        "# final_df_c.drop('cluster',axis=1,inplace=True)\n",
        "\n",
        "pca_2 = PCA(n_components=3)\n",
        "\n",
        "scores_data_pca = pca_2.fit_transform(user_scores_df_c.T)\n",
        "cluster_scores_df = pd.DataFrame(scores_data_pca)"
      ],
      "metadata": {
        "id": "t9fCm0jd6EyZ"
      },
      "execution_count": 110,
      "outputs": []
    },
    {
      "cell_type": "code",
      "source": [
        "cluster_scores_df"
      ],
      "metadata": {
        "colab": {
          "base_uri": "https://localhost:8080/",
          "height": 424
        },
        "id": "uPtIl4L57AOd",
        "outputId": "7f60eb82-e3ff-4e2a-f2b9-e38d0440b21f"
      },
      "execution_count": 111,
      "outputs": [
        {
          "output_type": "execute_result",
          "data": {
            "text/plain": [
              "               0          1          2\n",
              "0     159.986190 -67.950458  58.036338\n",
              "1      18.232717 -13.052170   7.724259\n",
              "2      25.437029 -20.030152  14.436384\n",
              "3      -0.920728   0.430828  -1.147622\n",
              "4       0.616810   1.799744   5.709008\n",
              "...          ...        ...        ...\n",
              "5626   -0.700513   0.905292  -0.196551\n",
              "5627    0.134731  -0.329877  -0.174015\n",
              "5628    1.564432   0.743289  -0.614110\n",
              "5629   -0.533696  -0.036766   0.555419\n",
              "5630   -0.266202  -0.408973  -0.723600\n",
              "\n",
              "[5631 rows x 3 columns]"
            ],
            "text/html": [
              "\n",
              "  <div id=\"df-42c0d69c-a781-4454-a29f-8db966eb94ec\">\n",
              "    <div class=\"colab-df-container\">\n",
              "      <div>\n",
              "<style scoped>\n",
              "    .dataframe tbody tr th:only-of-type {\n",
              "        vertical-align: middle;\n",
              "    }\n",
              "\n",
              "    .dataframe tbody tr th {\n",
              "        vertical-align: top;\n",
              "    }\n",
              "\n",
              "    .dataframe thead th {\n",
              "        text-align: right;\n",
              "    }\n",
              "</style>\n",
              "<table border=\"1\" class=\"dataframe\">\n",
              "  <thead>\n",
              "    <tr style=\"text-align: right;\">\n",
              "      <th></th>\n",
              "      <th>0</th>\n",
              "      <th>1</th>\n",
              "      <th>2</th>\n",
              "    </tr>\n",
              "  </thead>\n",
              "  <tbody>\n",
              "    <tr>\n",
              "      <th>0</th>\n",
              "      <td>159.986190</td>\n",
              "      <td>-67.950458</td>\n",
              "      <td>58.036338</td>\n",
              "    </tr>\n",
              "    <tr>\n",
              "      <th>1</th>\n",
              "      <td>18.232717</td>\n",
              "      <td>-13.052170</td>\n",
              "      <td>7.724259</td>\n",
              "    </tr>\n",
              "    <tr>\n",
              "      <th>2</th>\n",
              "      <td>25.437029</td>\n",
              "      <td>-20.030152</td>\n",
              "      <td>14.436384</td>\n",
              "    </tr>\n",
              "    <tr>\n",
              "      <th>3</th>\n",
              "      <td>-0.920728</td>\n",
              "      <td>0.430828</td>\n",
              "      <td>-1.147622</td>\n",
              "    </tr>\n",
              "    <tr>\n",
              "      <th>4</th>\n",
              "      <td>0.616810</td>\n",
              "      <td>1.799744</td>\n",
              "      <td>5.709008</td>\n",
              "    </tr>\n",
              "    <tr>\n",
              "      <th>...</th>\n",
              "      <td>...</td>\n",
              "      <td>...</td>\n",
              "      <td>...</td>\n",
              "    </tr>\n",
              "    <tr>\n",
              "      <th>5626</th>\n",
              "      <td>-0.700513</td>\n",
              "      <td>0.905292</td>\n",
              "      <td>-0.196551</td>\n",
              "    </tr>\n",
              "    <tr>\n",
              "      <th>5627</th>\n",
              "      <td>0.134731</td>\n",
              "      <td>-0.329877</td>\n",
              "      <td>-0.174015</td>\n",
              "    </tr>\n",
              "    <tr>\n",
              "      <th>5628</th>\n",
              "      <td>1.564432</td>\n",
              "      <td>0.743289</td>\n",
              "      <td>-0.614110</td>\n",
              "    </tr>\n",
              "    <tr>\n",
              "      <th>5629</th>\n",
              "      <td>-0.533696</td>\n",
              "      <td>-0.036766</td>\n",
              "      <td>0.555419</td>\n",
              "    </tr>\n",
              "    <tr>\n",
              "      <th>5630</th>\n",
              "      <td>-0.266202</td>\n",
              "      <td>-0.408973</td>\n",
              "      <td>-0.723600</td>\n",
              "    </tr>\n",
              "  </tbody>\n",
              "</table>\n",
              "<p>5631 rows × 3 columns</p>\n",
              "</div>\n",
              "      <button class=\"colab-df-convert\" onclick=\"convertToInteractive('df-42c0d69c-a781-4454-a29f-8db966eb94ec')\"\n",
              "              title=\"Convert this dataframe to an interactive table.\"\n",
              "              style=\"display:none;\">\n",
              "        \n",
              "  <svg xmlns=\"http://www.w3.org/2000/svg\" height=\"24px\"viewBox=\"0 0 24 24\"\n",
              "       width=\"24px\">\n",
              "    <path d=\"M0 0h24v24H0V0z\" fill=\"none\"/>\n",
              "    <path d=\"M18.56 5.44l.94 2.06.94-2.06 2.06-.94-2.06-.94-.94-2.06-.94 2.06-2.06.94zm-11 1L8.5 8.5l.94-2.06 2.06-.94-2.06-.94L8.5 2.5l-.94 2.06-2.06.94zm10 10l.94 2.06.94-2.06 2.06-.94-2.06-.94-.94-2.06-.94 2.06-2.06.94z\"/><path d=\"M17.41 7.96l-1.37-1.37c-.4-.4-.92-.59-1.43-.59-.52 0-1.04.2-1.43.59L10.3 9.45l-7.72 7.72c-.78.78-.78 2.05 0 2.83L4 21.41c.39.39.9.59 1.41.59.51 0 1.02-.2 1.41-.59l7.78-7.78 2.81-2.81c.8-.78.8-2.07 0-2.86zM5.41 20L4 18.59l7.72-7.72 1.47 1.35L5.41 20z\"/>\n",
              "  </svg>\n",
              "      </button>\n",
              "      \n",
              "  <style>\n",
              "    .colab-df-container {\n",
              "      display:flex;\n",
              "      flex-wrap:wrap;\n",
              "      gap: 12px;\n",
              "    }\n",
              "\n",
              "    .colab-df-convert {\n",
              "      background-color: #E8F0FE;\n",
              "      border: none;\n",
              "      border-radius: 50%;\n",
              "      cursor: pointer;\n",
              "      display: none;\n",
              "      fill: #1967D2;\n",
              "      height: 32px;\n",
              "      padding: 0 0 0 0;\n",
              "      width: 32px;\n",
              "    }\n",
              "\n",
              "    .colab-df-convert:hover {\n",
              "      background-color: #E2EBFA;\n",
              "      box-shadow: 0px 1px 2px rgba(60, 64, 67, 0.3), 0px 1px 3px 1px rgba(60, 64, 67, 0.15);\n",
              "      fill: #174EA6;\n",
              "    }\n",
              "\n",
              "    [theme=dark] .colab-df-convert {\n",
              "      background-color: #3B4455;\n",
              "      fill: #D2E3FC;\n",
              "    }\n",
              "\n",
              "    [theme=dark] .colab-df-convert:hover {\n",
              "      background-color: #434B5C;\n",
              "      box-shadow: 0px 1px 3px 1px rgba(0, 0, 0, 0.15);\n",
              "      filter: drop-shadow(0px 1px 2px rgba(0, 0, 0, 0.3));\n",
              "      fill: #FFFFFF;\n",
              "    }\n",
              "  </style>\n",
              "\n",
              "      <script>\n",
              "        const buttonEl =\n",
              "          document.querySelector('#df-42c0d69c-a781-4454-a29f-8db966eb94ec button.colab-df-convert');\n",
              "        buttonEl.style.display =\n",
              "          google.colab.kernel.accessAllowed ? 'block' : 'none';\n",
              "\n",
              "        async function convertToInteractive(key) {\n",
              "          const element = document.querySelector('#df-42c0d69c-a781-4454-a29f-8db966eb94ec');\n",
              "          const dataTable =\n",
              "            await google.colab.kernel.invokeFunction('convertToInteractive',\n",
              "                                                     [key], {});\n",
              "          if (!dataTable) return;\n",
              "\n",
              "          const docLinkHtml = 'Like what you see? Visit the ' +\n",
              "            '<a target=\"_blank\" href=https://colab.research.google.com/notebooks/data_table.ipynb>data table notebook</a>'\n",
              "            + ' to learn more about interactive tables.';\n",
              "          element.innerHTML = '';\n",
              "          dataTable['output_type'] = 'display_data';\n",
              "          await google.colab.output.renderOutput(dataTable, element);\n",
              "          const docLink = document.createElement('div');\n",
              "          docLink.innerHTML = docLinkHtml;\n",
              "          element.appendChild(docLink);\n",
              "        }\n",
              "      </script>\n",
              "    </div>\n",
              "  </div>\n",
              "  "
            ]
          },
          "metadata": {},
          "execution_count": 111
        }
      ]
    },
    {
      "cell_type": "code",
      "source": [
        "errors = []\n",
        "for k in range(1,9):\n",
        "  kmeans = KMeans(n_clusters=k)\n",
        "  kmeans.fit(cluster_scores_df)\n",
        "  errors.append(kmeans.inertia_)"
      ],
      "metadata": {
        "id": "OS2bPrLA7Im-"
      },
      "execution_count": 112,
      "outputs": []
    },
    {
      "cell_type": "code",
      "source": [
        "plt.figure(figsize=(8,6))\n",
        "plt.plot(range(1,9),errors)\n",
        "plt.xlabel(\"Number of clusters\")\n",
        "plt.ylabel(\"Error\")"
      ],
      "metadata": {
        "colab": {
          "base_uri": "https://localhost:8080/",
          "height": 416
        },
        "id": "Ix2amjt87Pfu",
        "outputId": "0f456a97-fb09-453c-f736-3d46e3edf15d"
      },
      "execution_count": 113,
      "outputs": [
        {
          "output_type": "execute_result",
          "data": {
            "text/plain": [
              "Text(0, 0.5, 'Error')"
            ]
          },
          "metadata": {},
          "execution_count": 113
        },
        {
          "output_type": "display_data",
          "data": {
            "text/plain": [
              "<Figure size 576x432 with 1 Axes>"
            ],
            "image/png": "[encoded data removed]"
          },
          "metadata": {
            "needs_background": "light"
          }
        }
      ]
    },
    {
      "cell_type": "markdown",
      "source": [
        "Within-cluster sums of squares are larger than previous analysis, meaning the clusters may not be as clearly defined as before. Nonetheless, per the elbow method we will use *k* = 4 clusters."
      ],
      "metadata": {
        "id": "5jvrt9vMviZ0"
      }
    },
    {
      "cell_type": "code",
      "source": [
        "kmeans_2 = KMeans(n_clusters=4)\n",
        "kmeans_2.fit(cluster_scores_df)"
      ],
      "metadata": {
        "colab": {
          "base_uri": "https://localhost:8080/"
        },
        "id": "O7BT0rTf7UbF",
        "outputId": "20a979d3-7652-415e-f72f-d3224abb239a"
      },
      "execution_count": 114,
      "outputs": [
        {
          "output_type": "execute_result",
          "data": {
            "text/plain": [
              "KMeans(n_clusters=4)"
            ]
          },
          "metadata": {},
          "execution_count": 114
        }
      ]
    },
    {
      "cell_type": "code",
      "source": [
        "c_preds = kmeans_2.predict(cluster_scores_df)\n",
        "pd.DataFrame(cluster_scores_df).plot.scatter(\n",
        "    x=0,y=1,c=c_preds,colormap='tab10',figsize=(8,6)\n",
        "  )"
      ],
      "metadata": {
        "colab": {
          "base_uri": "https://localhost:8080/",
          "height": 384
        },
        "id": "ILnR2obmBquU",
        "outputId": "c09ca495-95dd-4bbd-9a58-f0f2ec6d5487"
      },
      "execution_count": 115,
      "outputs": [
        {
          "output_type": "execute_result",
          "data": {
            "text/plain": [
              "<matplotlib.axes._subplots.AxesSubplot at 0x7f3665b26990>"
            ]
          },
          "metadata": {},
          "execution_count": 115
        },
        {
          "output_type": "display_data",
          "data": {
            "text/plain": [
              "<Figure size 576x432 with 2 Axes>"
            ],
            "image/png": "[encoded data removed]"
          },
          "metadata": {
            "needs_background": "light"
          }
        }
      ]
    },
    {
      "cell_type": "code",
      "source": [
        "fig = plt.figure(figsize=(10,8))\n",
        "ax = fig.add_subplot(projection='3d')\n",
        "ax.scatter(cluster_scores_df[0],cluster_scores_df[1],cluster_scores_df[2],c=c_preds)\n",
        "ax.set_xlabel('PC 1')\n",
        "ax.set_ylabel('PC 2')\n",
        "ax.set_zlabel('PC 3')"
      ],
      "metadata": {
        "colab": {
          "base_uri": "https://localhost:8080/",
          "height": 483
        },
        "id": "An8xnm80BwcH",
        "outputId": "df64be9d-9b64-4d87-f4ce-0f7b141e0b18"
      },
      "execution_count": 116,
      "outputs": [
        {
          "output_type": "execute_result",
          "data": {
            "text/plain": [
              "Text(0.5, 0, 'PC 3')"
            ]
          },
          "metadata": {},
          "execution_count": 116
        },
        {
          "output_type": "display_data",
          "data": {
            "text/plain": [
              "<Figure size 720x576 with 1 Axes>"
            ],
            "image/png": "[encoded data removed]"
          },
          "metadata": {
            "needs_background": "light"
          }
        }
      ]
    },
    {
      "cell_type": "markdown",
      "source": [
        "For each anime per cluster, we calculate the grand average number of points users rated greater or less than their average scores."
      ],
      "metadata": {
        "id": "VpDLVoE7ka3s"
      }
    },
    {
      "cell_type": "code",
      "source": [
        "user_scores_df_c_T = user_scores_df_c.T\n",
        "user_scores_df_c_T['cluster'] = c_preds\n",
        "# c0 = final_df_c[final_df_c.cluster == 0].drop('cluster',axis=1).mean(axis=0).sort_values(ascending=False)\n",
        "merged_df_2 = pd.merge(anime_df,user_scores_df_c_T,left_index=True,right_index=True)\n",
        "\n",
        "c0 = merged_df_2[merged_df_2.cluster==0].drop('cluster',axis=1).iloc[:,len(anime_df.columns):].mean(axis=1).sort_values(ascending=False)\n",
        "c0.index = merged_df_2.loc[c0.index]['title']\n",
        "c0"
      ],
      "metadata": {
        "colab": {
          "base_uri": "https://localhost:8080/"
        },
        "id": "ghNeo4OrIGUD",
        "outputId": "4e6dcfd8-5948-4b85-e77c-66c819f19401"
      },
      "execution_count": 117,
      "outputs": [
        {
          "output_type": "execute_result",
          "data": {
            "text/plain": [
              "title\n",
              "The Rising of the Shield Hero                                                       1.739496\n",
              "Naruto                                                                              1.691464\n",
              "Terror in Resonance                                                                 1.411152\n",
              "GTO: Great Teacher Onizuka                                                          1.396881\n",
              "That Time I Got Reincarnated as a Slime Season 2 Part 2                             1.360831\n",
              "                                                                                      ...   \n",
              "Killing Bites                                                                      -0.915363\n",
              "Campione!                                                                          -0.928326\n",
              "Full Dive: This Ultimate Next-Gen Full Dive RPG Is Even Shittier than Real Life!   -1.010478\n",
              "Girlfriend, Girlfriend                                                             -1.069248\n",
              "Rokka -Braves of the Six Flowers-                                                  -1.079712\n",
              "Length: 1785, dtype: float64"
            ]
          },
          "metadata": {},
          "execution_count": 117
        }
      ]
    },
    {
      "cell_type": "markdown",
      "source": [
        "This cluster seems to contain a fair mix of popular and niche shows that have mixed scores and reviews from users overall. The average scores range from 1 point lower and 1 point higher than each user's scores."
      ],
      "metadata": {
        "id": "NQDdLfFnkY5s"
      }
    },
    {
      "cell_type": "code",
      "source": [
        "c1 = merged_df_2[merged_df_2.cluster==1].drop('cluster',axis=1).iloc[:,len(anime_df.columns):].mean(axis=1).sort_values(ascending=False)\n",
        "c1.index = merged_df_2.loc[c1.index]['title']\n",
        "c1"
      ],
      "metadata": {
        "colab": {
          "base_uri": "https://localhost:8080/"
        },
        "id": "6nhx2eczIkr7",
        "outputId": "68969af0-f358-4b46-b993-ab86c1946c93"
      },
      "execution_count": 118,
      "outputs": [
        {
          "output_type": "execute_result",
          "data": {
            "text/plain": [
              "title\n",
              "Neon Genesis Evangelion                4.940400\n",
              "Clannad: After Story                   4.844706\n",
              "Puella Magi Madoka Magica              4.602019\n",
              "Anohana: The Flower We Saw That Day    4.587190\n",
              "Monogatari Series Second Season        4.515019\n",
              "                                         ...   \n",
              "Hanamonogatari                         1.150645\n",
              "Keep Your Hands Off Eizouken!          1.129698\n",
              "Daily Lives of High School Boys        1.107290\n",
              "Sound! Euphonium 2                     1.084535\n",
              "Soul Eater                             1.060755\n",
              "Length: 141, dtype: float64"
            ]
          },
          "metadata": {},
          "execution_count": 118
        }
      ]
    },
    {
      "cell_type": "markdown",
      "source": [
        "This cluster seems to contain anime that are rather niche or popular within more serious and veteran anime fans. This time, they are overall well-received by that audience. Scores range from 1 point to nearly 5 points higher than each user's average."
      ],
      "metadata": {
        "id": "vqbE1kFjoFbe"
      }
    },
    {
      "cell_type": "code",
      "source": [
        "c2 = merged_df_2[merged_df_2.cluster==2].drop('cluster',axis=1).iloc[:,len(anime_df.columns):].mean(axis=1).sort_values(ascending=False)\n",
        "c2.index = merged_df_2.loc[c2.index]['title']\n",
        "c2"
      ],
      "metadata": {
        "colab": {
          "base_uri": "https://localhost:8080/"
        },
        "id": "HIaE93b8I5Qo",
        "outputId": "6901226d-6240-4720-f5ea-ca5bdb5ab6b7"
      },
      "execution_count": 119,
      "outputs": [
        {
          "output_type": "execute_result",
          "data": {
            "text/plain": [
              "title\n",
              "FAIRY TAIL (2014)                                          -0.308169\n",
              "The Irregular at Magic High School                         -0.441275\n",
              "Akame ga Kill!                                             -0.485331\n",
              "The Future Diary                                           -0.488097\n",
              "Sword Art Online: Alicization - War of Underworld Part 2   -0.611046\n",
              "                                                              ...   \n",
              "Pupa                                                       -4.526014\n",
              "In Another World With My Smartphone                        -4.647765\n",
              "School Days (TV)                                           -4.726068\n",
              "King's Game                                                -4.765268\n",
              "Tokyo Ghoul √A                                             -5.255620\n",
              "Length: 224, dtype: float64"
            ]
          },
          "metadata": {},
          "execution_count": 119
        }
      ]
    },
    {
      "cell_type": "markdown",
      "source": [
        "This cluster contains anime that are generally poorly-received by users. All scores in this cluster range up to 5 below user average."
      ],
      "metadata": {
        "id": "M3cT8ELSouuz"
      }
    },
    {
      "cell_type": "code",
      "source": [
        "c3 = merged_df_2[merged_df_2.cluster==3].drop('cluster',axis=1).iloc[:,len(anime_df.columns):].mean(axis=1).sort_values(ascending=False)\n",
        "c3.index = merged_df_2.loc[c3.index]['title']\n",
        "c3"
      ],
      "metadata": {
        "colab": {
          "base_uri": "https://localhost:8080/"
        },
        "id": "rjZifrIdKcDm",
        "outputId": "c200ebb9-e563-4ab0-f61c-6b027b47f900"
      },
      "execution_count": 120,
      "outputs": [
        {
          "output_type": "execute_result",
          "data": {
            "text/plain": [
              "title\n",
              "Steins;Gate                                               12.892965\n",
              "A Silent Voice                                            12.007951\n",
              "Fullmetal Alchemist: Brotherhood                          11.842574\n",
              "Your Name.                                                11.530397\n",
              "Attack on Titan Season 3 Part 2                            9.661247\n",
              "Hunter x Hunter (2011)                                     9.643687\n",
              "One-Punch Man                                              8.919571\n",
              "Demon Slayer: Kimetsu no Yaiba                             8.128224\n",
              "Made in Abyss                                              8.038464\n",
              "Mob Psycho 100 II                                          7.965505\n",
              "Re:ZERO -Starting Life in Another World-                   7.618922\n",
              "Code Geass: Lelouch of the Rebellion                       7.505346\n",
              "Attack on Titan                                            7.504604\n",
              "Your lie in April                                          7.488422\n",
              "Code Geass: Lelouch of the Rebellion R2                    7.181077\n",
              "Bakemonogatari                                             7.071039\n",
              "Death Note                                                 7.005785\n",
              "JUJUTSU KAISEN                                             6.987681\n",
              "Mob Psycho 100                                             6.687418\n",
              "Attack on Titan Final Season                               6.659856\n",
              "Kaguya-sama: Love is War                                   6.629976\n",
              "Gurren Lagann                                              6.547348\n",
              "Attack on Titan Season 2                                   6.483963\n",
              "My Hero Academia Season 2                                  6.479363\n",
              "Violet Evergarden                                          6.459965\n",
              "The Promised Neverland                                     6.438245\n",
              "Attack on Titan Season 3                                   6.378466\n",
              "Kaguya-sama: Love is War?                                  6.251730\n",
              "Rascal Does Not Dream of Bunny Girl Senpai                 5.986602\n",
              "No Game, No Life                                           5.958241\n",
              "Toradora!                                                  5.913956\n",
              "Cowboy Bebop                                               5.774637\n",
              "Spirited Away                                              5.613533\n",
              "My Hero Academia Season 3                                  5.537749\n",
              "VINLAND SAGA                                               5.475213\n",
              "ERASED                                                     5.315055\n",
              "KONOSUBA -God's blessing on this wonderful world!          5.254546\n",
              "My Hero Academia                                           5.188134\n",
              "Parasyte -the maxim-                                       5.184563\n",
              "Mushoku Tensei: Jobless Reincarnation                      5.168367\n",
              "HAIKYU!!                                                   5.082687\n",
              "PSYCHO-PASS                                                5.036052\n",
              "Demon Slayer -Kimetsu no Yaiba- The Movie: Mugen Train     5.034135\n",
              "Fate/Zero                                                  4.945181\n",
              "HAIKYU!! 3rd Season                                        4.786262\n",
              "HAIKYU!! 2nd Season                                        4.764413\n",
              "Fate/Zero Season 2                                         4.738811\n",
              "Angel Beats!                                               4.671960\n",
              "Death Parade                                               4.640600\n",
              "Dr. STONE                                                  4.611827\n",
              "KONOSUBA -God's blessing on this wonderful world! 2        4.447804\n",
              "Mushoku Tensei: Jobless Reincarnation Cour 2               4.353690\n",
              "dtype: float64"
            ]
          },
          "metadata": {},
          "execution_count": 120
        }
      ]
    },
    {
      "cell_type": "markdown",
      "source": [
        "This cluster contains the most popular anime and ones that are generally well-received by anime fans, whether casual or veteran. "
      ],
      "metadata": {
        "id": "HquSEgr3o8S5"
      }
    },
    {
      "cell_type": "code",
      "source": [
        ""
      ],
      "metadata": {
        "id": "A7DzGPsGQgxy"
      },
      "execution_count": null,
      "outputs": []
    }
  ]
}